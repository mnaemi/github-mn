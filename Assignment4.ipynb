{
 "cells": [
  {
   "cell_type": "markdown",
   "metadata": {},
   "source": [
    "# Assignment Week 4 - The Battle of Neighborhoods"
   ]
  },
  {
   "cell_type": "markdown",
   "metadata": {},
   "source": [
    "## Table of Content"
   ]
  },
  {
   "cell_type": "markdown",
   "metadata": {},
   "source": [
    "* [1. Introduction](###-1.-Introduction)\n",
    "* [2. Data](###-2.-Data)\n",
    "* [2. Methodology and analysis](###-2.-Data)\n",
    "* [2. Results and discussion](###-2.-Data)\n",
    "* [5. Conclusion](###-2.-Data)\n",
    "\n",
    " \n"
   ]
  },
  {
   "cell_type": "markdown",
   "metadata": {},
   "source": [
    "### 1. Introduction "
   ]
  },
  {
   "cell_type": "markdown",
   "metadata": {},
   "source": [
    "Melbourne is a large city of the Victoria state in Australia with a population of more than 5 million. Due to the diversity of people living in Australia and especially in Melbourne, there are various types of cuisine available. There is a high competition between restaurants in the suburbs with a high concentration of food stores and restaurants.  Therefore, it is crucial to investigate the suitability of different suburbs for opening a new restaurant to reduce the risk of investment failure and financial loss. \n",
    "\n",
    "**Problem description**\\\n",
    "Recently, a client who is going to open a restaurant in Melbourne asked us to introduce the best place for opening his restaurant. For this purpose, we need to analyse the number of restaurants in each desired suburb to find the best one. This project therefore aims to find the best place for a restaurant in Melbourne, Australia. Since the restaurant is going to be open until late night, the client has concerns about the crime in the suburb in which restaurants is located. As there is a trade-off between the crime rate and the suitability of a suburb for a restaurant, at the end of this project the followings are delivered to provide an insight into different options for our client: \n",
    "\n",
    "1. Our recommended list of top 3 suburbs for opening the restaurant.\n",
    "2. Crime data and number of restaurants in these suburbs.\n",
    "3. A geographical map of these suburbs."
   ]
  },
  {
   "cell_type": "markdown",
   "metadata": {},
   "source": [
    "----\n",
    "### 2. Data"
   ]
  },
  {
   "cell_type": "markdown",
   "metadata": {},
   "source": [
    "For this project, we need to first obtain the geographical data of all suburbs along with their postcode. This requires the following packages to be imported."
   ]
  },
  {
   "cell_type": "code",
   "execution_count": 1,
   "metadata": {},
   "outputs": [
    {
     "name": "stdout",
     "output_type": "stream",
     "text": [
      "Requirement already satisfied: lxml in c:\\users\\mnaemi\\anaconda3\\lib\\site-packages (4.5.0)\n",
      "Requirement already satisfied: html5lib in c:\\users\\mnaemi\\anaconda3\\lib\\site-packages (1.0.1)\n",
      "Requirement already satisfied: beautifulsoup4 in c:\\users\\mnaemi\\anaconda3\\lib\\site-packages (4.8.2)\n",
      "Requirement already satisfied: webencodings in c:\\users\\mnaemi\\anaconda3\\lib\\site-packages (from html5lib) (0.5.1)\n",
      "Requirement already satisfied: six>=1.9 in c:\\users\\mnaemi\\anaconda3\\lib\\site-packages (from html5lib) (1.14.0)\n",
      "Requirement already satisfied: soupsieve>=1.2 in c:\\users\\mnaemi\\anaconda3\\lib\\site-packages (from beautifulsoup4) (1.9.5)\n",
      "Note: you may need to restart the kernel to use updated packages.\n",
      "Requirement already satisfied: requests in c:\\users\\mnaemi\\anaconda3\\lib\\site-packages (2.22.0)\n",
      "Requirement already satisfied: chardet<3.1.0,>=3.0.2 in c:\\users\\mnaemi\\anaconda3\\lib\\site-packages (from requests) (3.0.4)\n",
      "Requirement already satisfied: urllib3!=1.25.0,!=1.25.1,<1.26,>=1.21.1 in c:\\users\\mnaemi\\anaconda3\\lib\\site-packages (from requests) (1.25.8)\n",
      "Requirement already satisfied: idna<2.9,>=2.5 in c:\\users\\mnaemi\\anaconda3\\lib\\site-packages (from requests) (2.8)\n",
      "Requirement already satisfied: certifi>=2017.4.17 in c:\\users\\mnaemi\\anaconda3\\lib\\site-packages (from requests) (2019.11.28)\n",
      "Note: you may need to restart the kernel to use updated packages.\n"
     ]
    }
   ],
   "source": [
    "import pandas as pd\n",
    "import numpy as np\n",
    "%pip install lxml html5lib beautifulsoup4\n",
    "%pip install requests\n",
    "import requests\n",
    "from bs4 import BeautifulSoup"
   ]
  },
  {
   "cell_type": "markdown",
   "metadata": {},
   "source": [
    "---- \n",
    "### Geographical data\n",
    "The postcode data of various suburbs of Melbourne along with their latitude and longitude are available in the following `url`. We create a BeautifulSoup object to webscrapping the data."
   ]
  },
  {
   "cell_type": "code",
   "execution_count": 2,
   "metadata": {},
   "outputs": [],
   "source": [
    "url=\"https://www.matthewproctor.com/full_australian_postcodes_vic\"\n",
    "page=requests.get(url)\n",
    "soup = BeautifulSoup(page.content, 'lxml')"
   ]
  },
  {
   "cell_type": "markdown",
   "metadata": {},
   "source": [
    "----\n",
    "Now, let's extract the table data from that and save them in a dataframe `df`."
   ]
  },
  {
   "cell_type": "code",
   "execution_count": 3,
   "metadata": {},
   "outputs": [
    {
     "data": {
      "text/html": [
       "<div>\n",
       "<style scoped>\n",
       "    .dataframe tbody tr th:only-of-type {\n",
       "        vertical-align: middle;\n",
       "    }\n",
       "\n",
       "    .dataframe tbody tr th {\n",
       "        vertical-align: top;\n",
       "    }\n",
       "\n",
       "    .dataframe thead th {\n",
       "        text-align: right;\n",
       "    }\n",
       "</style>\n",
       "<table border=\"1\" class=\"dataframe\">\n",
       "  <thead>\n",
       "    <tr style=\"text-align: right;\">\n",
       "      <th></th>\n",
       "      <th>ID</th>\n",
       "      <th>Postcode</th>\n",
       "      <th>Locality</th>\n",
       "      <th>State</th>\n",
       "      <th>Longitude</th>\n",
       "      <th>Latitude</th>\n",
       "      <th>Category</th>\n",
       "      <th>Type</th>\n",
       "      <th>SA3</th>\n",
       "      <th>SA3 Name</th>\n",
       "      <th>SA4</th>\n",
       "      <th>SA4 Name</th>\n",
       "      <th>Region</th>\n",
       "      <th>Status</th>\n",
       "    </tr>\n",
       "  </thead>\n",
       "  <tbody>\n",
       "    <tr>\n",
       "      <th>0</th>\n",
       "      <td>4746</td>\n",
       "      <td>3000</td>\n",
       "      <td>MELBOURNE</td>\n",
       "      <td>VIC</td>\n",
       "      <td>144.956776</td>\n",
       "      <td>-37.817403</td>\n",
       "      <td>Delivery Area</td>\n",
       "      <td>Delivery Area</td>\n",
       "      <td>20604</td>\n",
       "      <td>Melbourne City</td>\n",
       "      <td>206</td>\n",
       "      <td>Melbourne - Inner</td>\n",
       "      <td>R1</td>\n",
       "      <td>Updated 6-Feb-2020</td>\n",
       "    </tr>\n",
       "    <tr>\n",
       "      <th>1</th>\n",
       "      <td>4747</td>\n",
       "      <td>3001</td>\n",
       "      <td>MELBOURNE</td>\n",
       "      <td>VIC</td>\n",
       "      <td>144.76592</td>\n",
       "      <td>-38.365017</td>\n",
       "      <td>Post Office Boxes</td>\n",
       "      <td>Post Office Boxes</td>\n",
       "      <td>20605</td>\n",
       "      <td>Port Phillip</td>\n",
       "      <td>206</td>\n",
       "      <td>Melbourne - Inner</td>\n",
       "      <td>R1</td>\n",
       "      <td>Updated 25-Mar-2020 SA3</td>\n",
       "    </tr>\n",
       "    <tr>\n",
       "      <th>2</th>\n",
       "      <td>4748</td>\n",
       "      <td>3002</td>\n",
       "      <td>EAST MELBOURNE</td>\n",
       "      <td>VIC</td>\n",
       "      <td>144.982207</td>\n",
       "      <td>-37.818517</td>\n",
       "      <td>Delivery Area</td>\n",
       "      <td>Delivery Area</td>\n",
       "      <td>20604</td>\n",
       "      <td>Melbourne City</td>\n",
       "      <td>206</td>\n",
       "      <td>Melbourne - Inner</td>\n",
       "      <td>R1</td>\n",
       "      <td>Updated 6-Feb-2020</td>\n",
       "    </tr>\n",
       "    <tr>\n",
       "      <th>3</th>\n",
       "      <td>4749</td>\n",
       "      <td>3003</td>\n",
       "      <td>WEST MELBOURNE</td>\n",
       "      <td>VIC</td>\n",
       "      <td>144.949592</td>\n",
       "      <td>-37.810871</td>\n",
       "      <td>Delivery Area</td>\n",
       "      <td>Delivery Area</td>\n",
       "      <td>20604</td>\n",
       "      <td>Melbourne City</td>\n",
       "      <td>206</td>\n",
       "      <td>Melbourne - Inner</td>\n",
       "      <td>R1</td>\n",
       "      <td>Updated 6-Feb-2020</td>\n",
       "    </tr>\n",
       "    <tr>\n",
       "      <th>4</th>\n",
       "      <td>4750</td>\n",
       "      <td>3004</td>\n",
       "      <td>MELBOURNE</td>\n",
       "      <td>VIC</td>\n",
       "      <td>144.970161</td>\n",
       "      <td>-37.844246</td>\n",
       "      <td>Delivery Area</td>\n",
       "      <td>Delivery Area</td>\n",
       "      <td>20605</td>\n",
       "      <td>Port Phillip</td>\n",
       "      <td>206</td>\n",
       "      <td>Melbourne - Inner</td>\n",
       "      <td>R1</td>\n",
       "      <td>Updated 6-Feb-2020</td>\n",
       "    </tr>\n",
       "  </tbody>\n",
       "</table>\n",
       "</div>"
      ],
      "text/plain": [
       "     ID Postcode        Locality State   Longitude    Latitude  \\\n",
       "0  4746     3000       MELBOURNE   VIC  144.956776  -37.817403   \n",
       "1  4747     3001       MELBOURNE   VIC   144.76592  -38.365017   \n",
       "2  4748     3002  EAST MELBOURNE   VIC  144.982207  -37.818517   \n",
       "3  4749     3003  WEST MELBOURNE   VIC  144.949592  -37.810871   \n",
       "4  4750     3004       MELBOURNE   VIC  144.970161  -37.844246   \n",
       "\n",
       "            Category               Type    SA3        SA3 Name  SA4  \\\n",
       "0      Delivery Area      Delivery Area  20604  Melbourne City  206   \n",
       "1  Post Office Boxes  Post Office Boxes  20605    Port Phillip  206   \n",
       "2      Delivery Area      Delivery Area  20604  Melbourne City  206   \n",
       "3      Delivery Area      Delivery Area  20604  Melbourne City  206   \n",
       "4      Delivery Area      Delivery Area  20605    Port Phillip  206   \n",
       "\n",
       "            SA4 Name Region                   Status  \n",
       "0  Melbourne - Inner     R1       Updated 6-Feb-2020  \n",
       "1  Melbourne - Inner     R1  Updated 25-Mar-2020 SA3  \n",
       "2  Melbourne - Inner     R1       Updated 6-Feb-2020  \n",
       "3  Melbourne - Inner     R1       Updated 6-Feb-2020  \n",
       "4  Melbourne - Inner     R1       Updated 6-Feb-2020  "
      ]
     },
     "execution_count": 3,
     "metadata": {},
     "output_type": "execute_result"
    }
   ],
   "source": [
    "table1=soup.find(\"table\",attrs={\"class\":\"table\"})\n",
    "\n",
    "row=table1.find_all('tr')\n",
    "cols=[v.text.replace('\\n','') for v in row[0].find_all('td')]\n",
    "\n",
    "df=pd.DataFrame(columns=cols)\n",
    "for i in range(1,len(row)):\n",
    "    tds=row[i].find_all('td')\n",
    "    vals=[td.text.replace('\\n','') for td in tds]\n",
    "    df=df.append(pd.Series(vals,index=cols),ignore_index=True)\n",
    "\n",
    "df.head()"
   ]
  },
  {
   "cell_type": "markdown",
   "metadata": {},
   "source": [
    "----\n",
    "Let's drop those columns that we don't need for this project."
   ]
  },
  {
   "cell_type": "code",
   "execution_count": 4,
   "metadata": {},
   "outputs": [],
   "source": [
    "df.drop(['ID','State','Category','Type','SA3','SA4','SA4 Name', 'Region','Status'],axis=1,inplace=True)\n",
    "df.rename(columns={'Locality':'Suburb','SA3 Name':'Neighborhood'},inplace=True)"
   ]
  },
  {
   "cell_type": "markdown",
   "metadata": {},
   "source": [
    "We need to clean the data more before using that for this project. The following code will do this."
   ]
  },
  {
   "cell_type": "code",
   "execution_count": 5,
   "metadata": {},
   "outputs": [],
   "source": [
    "df['Suburb']=df['Suburb'].str.replace(\" \",\"_\")\n",
    "df['Suburb']=df['Suburb'].str.pad(10, side ='right', fillchar =' ')\n",
    "dfnew=df[df[\"Longitude\"] != \"\"]\n",
    "dfnew=dfnew[dfnew['Longitude']!='0']\n",
    "dfnew[['Longitude','Latitude']]=dfnew[['Longitude','Latitude']].astype('float')\n",
    "df_grouped=dfnew.groupby(['Postcode']).agg({'Longitude':'mean', 'Latitude':'mean','Suburb':'sum'})"
   ]
  },
  {
   "cell_type": "code",
   "execution_count": 6,
   "metadata": {},
   "outputs": [
    {
     "data": {
      "text/html": [
       "<div>\n",
       "<style scoped>\n",
       "    .dataframe tbody tr th:only-of-type {\n",
       "        vertical-align: middle;\n",
       "    }\n",
       "\n",
       "    .dataframe tbody tr th {\n",
       "        vertical-align: top;\n",
       "    }\n",
       "\n",
       "    .dataframe thead th {\n",
       "        text-align: right;\n",
       "    }\n",
       "</style>\n",
       "<table border=\"1\" class=\"dataframe\">\n",
       "  <thead>\n",
       "    <tr style=\"text-align: right;\">\n",
       "      <th></th>\n",
       "      <th>Postcode</th>\n",
       "      <th>Longitude</th>\n",
       "      <th>Latitude</th>\n",
       "      <th>Suburb</th>\n",
       "    </tr>\n",
       "  </thead>\n",
       "  <tbody>\n",
       "    <tr>\n",
       "      <th>0</th>\n",
       "      <td>3000</td>\n",
       "      <td>144.956776</td>\n",
       "      <td>-37.817403</td>\n",
       "      <td>MELBOURNE</td>\n",
       "    </tr>\n",
       "    <tr>\n",
       "      <th>1</th>\n",
       "      <td>3001</td>\n",
       "      <td>144.765920</td>\n",
       "      <td>-38.365017</td>\n",
       "      <td>MELBOURNE</td>\n",
       "    </tr>\n",
       "    <tr>\n",
       "      <th>2</th>\n",
       "      <td>3002</td>\n",
       "      <td>144.982207</td>\n",
       "      <td>-37.818517</td>\n",
       "      <td>EAST_MELBOURNE</td>\n",
       "    </tr>\n",
       "    <tr>\n",
       "      <th>3</th>\n",
       "      <td>3003</td>\n",
       "      <td>144.949592</td>\n",
       "      <td>-37.810871</td>\n",
       "      <td>WEST_MELBOURNE</td>\n",
       "    </tr>\n",
       "    <tr>\n",
       "      <th>4</th>\n",
       "      <td>3004</td>\n",
       "      <td>144.970161</td>\n",
       "      <td>-37.844246</td>\n",
       "      <td>MELBOURNE ST_KILDA_ROAD_CENTRAL</td>\n",
       "    </tr>\n",
       "  </tbody>\n",
       "</table>\n",
       "</div>"
      ],
      "text/plain": [
       "  Postcode   Longitude   Latitude                           Suburb\n",
       "0     3000  144.956776 -37.817403                       MELBOURNE \n",
       "1     3001  144.765920 -38.365017                       MELBOURNE \n",
       "2     3002  144.982207 -37.818517                   EAST_MELBOURNE\n",
       "3     3003  144.949592 -37.810871                   WEST_MELBOURNE\n",
       "4     3004  144.970161 -37.844246  MELBOURNE ST_KILDA_ROAD_CENTRAL"
      ]
     },
     "execution_count": 6,
     "metadata": {},
     "output_type": "execute_result"
    }
   ],
   "source": [
    "\n",
    "df_grouped.reset_index(inplace=True)\n",
    "#df_grouped['Suburb']=df_grouped['Suburb'].str.replace(\" \",\",\")\n",
    "df_grouped.head()"
   ]
  },
  {
   "cell_type": "markdown",
   "metadata": {},
   "source": [
    "----\n",
    "### Crime data\n",
    "Now, let's collect the data for the crimes in different suburbs. This data is publicly available at the \"https://www.crimestatistics.vic.gov.au/crime-statistics/latest-crime-data/download-data\". I already downloaded the .csv file and saved the data as a new dataframe."
   ]
  },
  {
   "cell_type": "code",
   "execution_count": 7,
   "metadata": {},
   "outputs": [
    {
     "data": {
      "text/html": [
       "<div>\n",
       "<style scoped>\n",
       "    .dataframe tbody tr th:only-of-type {\n",
       "        vertical-align: middle;\n",
       "    }\n",
       "\n",
       "    .dataframe tbody tr th {\n",
       "        vertical-align: top;\n",
       "    }\n",
       "\n",
       "    .dataframe thead th {\n",
       "        text-align: right;\n",
       "    }\n",
       "</style>\n",
       "<table border=\"1\" class=\"dataframe\">\n",
       "  <thead>\n",
       "    <tr style=\"text-align: right;\">\n",
       "      <th></th>\n",
       "      <th>Year</th>\n",
       "      <th>Year ending</th>\n",
       "      <th>Local Government Area</th>\n",
       "      <th>Postcode</th>\n",
       "      <th>Suburb/Town Name</th>\n",
       "      <th>Offence Division</th>\n",
       "      <th>Offence Subdivision</th>\n",
       "      <th>Offence Subgroup</th>\n",
       "      <th>Incidents Recorded</th>\n",
       "    </tr>\n",
       "  </thead>\n",
       "  <tbody>\n",
       "    <tr>\n",
       "      <th>0</th>\n",
       "      <td>2019</td>\n",
       "      <td>December</td>\n",
       "      <td>Alpine</td>\n",
       "      <td>3691</td>\n",
       "      <td>Dederang</td>\n",
       "      <td>B Property and deception offences</td>\n",
       "      <td>B30 Burglary/Break and enter</td>\n",
       "      <td>B321 Residential non-aggravated burglary</td>\n",
       "      <td>1</td>\n",
       "    </tr>\n",
       "    <tr>\n",
       "      <th>1</th>\n",
       "      <td>2019</td>\n",
       "      <td>December</td>\n",
       "      <td>Alpine</td>\n",
       "      <td>3691</td>\n",
       "      <td>Dederang</td>\n",
       "      <td>E Justice procedures offences</td>\n",
       "      <td>E10 Justice procedures</td>\n",
       "      <td>E14 Pervert the course of justice or commit pe...</td>\n",
       "      <td>1</td>\n",
       "    </tr>\n",
       "    <tr>\n",
       "      <th>2</th>\n",
       "      <td>2019</td>\n",
       "      <td>December</td>\n",
       "      <td>Alpine</td>\n",
       "      <td>3691</td>\n",
       "      <td>Dederang</td>\n",
       "      <td>A Crimes against the person</td>\n",
       "      <td>A20 Assault and related offences</td>\n",
       "      <td>A212 Non-FV Serious assault</td>\n",
       "      <td>1</td>\n",
       "    </tr>\n",
       "    <tr>\n",
       "      <th>3</th>\n",
       "      <td>2019</td>\n",
       "      <td>December</td>\n",
       "      <td>Alpine</td>\n",
       "      <td>3691</td>\n",
       "      <td>Dederang</td>\n",
       "      <td>D Public order and security offences</td>\n",
       "      <td>D20 Disorderly and offensive conduct</td>\n",
       "      <td>D22 Drunk and disorderly in public</td>\n",
       "      <td>2</td>\n",
       "    </tr>\n",
       "    <tr>\n",
       "      <th>4</th>\n",
       "      <td>2019</td>\n",
       "      <td>December</td>\n",
       "      <td>Alpine</td>\n",
       "      <td>3691</td>\n",
       "      <td>Dederang</td>\n",
       "      <td>B Property and deception offences</td>\n",
       "      <td>B20 Property damage</td>\n",
       "      <td>B21 Criminal damage</td>\n",
       "      <td>1</td>\n",
       "    </tr>\n",
       "  </tbody>\n",
       "</table>\n",
       "</div>"
      ],
      "text/plain": [
       "   Year Year ending Local Government Area  Postcode Suburb/Town Name  \\\n",
       "0  2019    December                Alpine      3691         Dederang   \n",
       "1  2019    December                Alpine      3691         Dederang   \n",
       "2  2019    December                Alpine      3691         Dederang   \n",
       "3  2019    December                Alpine      3691         Dederang   \n",
       "4  2019    December                Alpine      3691         Dederang   \n",
       "\n",
       "                       Offence Division                   Offence Subdivision  \\\n",
       "0     B Property and deception offences          B30 Burglary/Break and enter   \n",
       "1         E Justice procedures offences                E10 Justice procedures   \n",
       "2           A Crimes against the person      A20 Assault and related offences   \n",
       "3  D Public order and security offences  D20 Disorderly and offensive conduct   \n",
       "4     B Property and deception offences                   B20 Property damage   \n",
       "\n",
       "                                    Offence Subgroup Incidents Recorded  \n",
       "0           B321 Residential non-aggravated burglary                 1   \n",
       "1  E14 Pervert the course of justice or commit pe...                 1   \n",
       "2                        A212 Non-FV Serious assault                 1   \n",
       "3                 D22 Drunk and disorderly in public                 2   \n",
       "4                                B21 Criminal damage                 1   "
      ]
     },
     "execution_count": 7,
     "metadata": {},
     "output_type": "execute_result"
    }
   ],
   "source": [
    "df_crime=pd.read_csv(\"C:/Users/mnaemi/Google Drive/Data Science/Capstone/crime.csv\")\n",
    "df_crime.head()"
   ]
  },
  {
   "cell_type": "markdown",
   "metadata": {},
   "source": [
    "Let's drop unnecessary columns."
   ]
  },
  {
   "cell_type": "code",
   "execution_count": 8,
   "metadata": {},
   "outputs": [
    {
     "data": {
      "text/html": [
       "<div>\n",
       "<style scoped>\n",
       "    .dataframe tbody tr th:only-of-type {\n",
       "        vertical-align: middle;\n",
       "    }\n",
       "\n",
       "    .dataframe tbody tr th {\n",
       "        vertical-align: top;\n",
       "    }\n",
       "\n",
       "    .dataframe thead th {\n",
       "        text-align: right;\n",
       "    }\n",
       "</style>\n",
       "<table border=\"1\" class=\"dataframe\">\n",
       "  <thead>\n",
       "    <tr style=\"text-align: right;\">\n",
       "      <th></th>\n",
       "      <th>Postcode</th>\n",
       "      <th>Type</th>\n",
       "      <th>Incidents Recorded</th>\n",
       "    </tr>\n",
       "  </thead>\n",
       "  <tbody>\n",
       "    <tr>\n",
       "      <th>0</th>\n",
       "      <td>3691</td>\n",
       "      <td>B Property and deception offences</td>\n",
       "      <td>1</td>\n",
       "    </tr>\n",
       "    <tr>\n",
       "      <th>1</th>\n",
       "      <td>3691</td>\n",
       "      <td>E Justice procedures offences</td>\n",
       "      <td>1</td>\n",
       "    </tr>\n",
       "    <tr>\n",
       "      <th>2</th>\n",
       "      <td>3691</td>\n",
       "      <td>A Crimes against the person</td>\n",
       "      <td>1</td>\n",
       "    </tr>\n",
       "    <tr>\n",
       "      <th>3</th>\n",
       "      <td>3691</td>\n",
       "      <td>D Public order and security offences</td>\n",
       "      <td>2</td>\n",
       "    </tr>\n",
       "    <tr>\n",
       "      <th>4</th>\n",
       "      <td>3691</td>\n",
       "      <td>B Property and deception offences</td>\n",
       "      <td>1</td>\n",
       "    </tr>\n",
       "  </tbody>\n",
       "</table>\n",
       "</div>"
      ],
      "text/plain": [
       "   Postcode                                  Type Incidents Recorded\n",
       "0      3691     B Property and deception offences                 1 \n",
       "1      3691         E Justice procedures offences                 1 \n",
       "2      3691           A Crimes against the person                 1 \n",
       "3      3691  D Public order and security offences                 2 \n",
       "4      3691     B Property and deception offences                 1 "
      ]
     },
     "execution_count": 8,
     "metadata": {},
     "output_type": "execute_result"
    }
   ],
   "source": [
    "df_crime.drop(['Year','Year ending','Local Government Area','Suburb/Town Name','Offence Subdivision','Offence Subgroup'],axis=1,inplace=True)\n",
    "df_crime.rename(columns={'Suburb/Town Name':'Suburb','Offence Division':'Type'},inplace=True)\n",
    "df_crime.head()\n",
    "\n"
   ]
  },
  {
   "cell_type": "markdown",
   "metadata": {},
   "source": [
    "----\n",
    "Now, we group the data based on the postcode to get the total number of crimes in each region."
   ]
  },
  {
   "cell_type": "code",
   "execution_count": 9,
   "metadata": {
    "scrolled": false
   },
   "outputs": [],
   "source": [
    "df_crime['Incidents Recorded']=df_crime['Incidents Recorded'].astype('string')\n",
    "df_crime['Incidents Recorded']=df_crime['Incidents Recorded'].str.replace(',','')\n",
    "df_crime[['Incidents Recorded','Postcode']]=df_crime[['Incidents Recorded','Postcode']].astype('int64')\n",
    "\n",
    "df_crime=df_crime.groupby(['Postcode']).sum()"
   ]
  },
  {
   "cell_type": "code",
   "execution_count": 10,
   "metadata": {},
   "outputs": [
    {
     "data": {
      "text/html": [
       "<div>\n",
       "<style scoped>\n",
       "    .dataframe tbody tr th:only-of-type {\n",
       "        vertical-align: middle;\n",
       "    }\n",
       "\n",
       "    .dataframe tbody tr th {\n",
       "        vertical-align: top;\n",
       "    }\n",
       "\n",
       "    .dataframe thead th {\n",
       "        text-align: right;\n",
       "    }\n",
       "</style>\n",
       "<table border=\"1\" class=\"dataframe\">\n",
       "  <thead>\n",
       "    <tr style=\"text-align: right;\">\n",
       "      <th></th>\n",
       "      <th>Incidents Recorded</th>\n",
       "    </tr>\n",
       "    <tr>\n",
       "      <th>Postcode</th>\n",
       "      <th></th>\n",
       "    </tr>\n",
       "  </thead>\n",
       "  <tbody>\n",
       "    <tr>\n",
       "      <th>3000</th>\n",
       "      <td>148273</td>\n",
       "    </tr>\n",
       "    <tr>\n",
       "      <th>3002</th>\n",
       "      <td>7572</td>\n",
       "    </tr>\n",
       "    <tr>\n",
       "      <th>3003</th>\n",
       "      <td>6812</td>\n",
       "    </tr>\n",
       "    <tr>\n",
       "      <th>3004</th>\n",
       "      <td>7453</td>\n",
       "    </tr>\n",
       "    <tr>\n",
       "      <th>3005</th>\n",
       "      <td>671</td>\n",
       "    </tr>\n",
       "    <tr>\n",
       "      <th>...</th>\n",
       "      <td>...</td>\n",
       "    </tr>\n",
       "    <tr>\n",
       "      <th>3990</th>\n",
       "      <td>50</td>\n",
       "    </tr>\n",
       "    <tr>\n",
       "      <th>3991</th>\n",
       "      <td>283</td>\n",
       "    </tr>\n",
       "    <tr>\n",
       "      <th>3992</th>\n",
       "      <td>288</td>\n",
       "    </tr>\n",
       "    <tr>\n",
       "      <th>3995</th>\n",
       "      <td>7809</td>\n",
       "    </tr>\n",
       "    <tr>\n",
       "      <th>3996</th>\n",
       "      <td>2015</td>\n",
       "    </tr>\n",
       "  </tbody>\n",
       "</table>\n",
       "<p>697 rows × 1 columns</p>\n",
       "</div>"
      ],
      "text/plain": [
       "          Incidents Recorded\n",
       "Postcode                    \n",
       "3000                  148273\n",
       "3002                    7572\n",
       "3003                    6812\n",
       "3004                    7453\n",
       "3005                     671\n",
       "...                      ...\n",
       "3990                      50\n",
       "3991                     283\n",
       "3992                     288\n",
       "3995                    7809\n",
       "3996                    2015\n",
       "\n",
       "[697 rows x 1 columns]"
      ]
     },
     "execution_count": 10,
     "metadata": {},
     "output_type": "execute_result"
    }
   ],
   "source": [
    "df_crime"
   ]
  },
  {
   "cell_type": "markdown",
   "metadata": {},
   "source": [
    "----\n",
    "Now, let's merge two dataframe using their postcode."
   ]
  },
  {
   "cell_type": "code",
   "execution_count": 11,
   "metadata": {},
   "outputs": [],
   "source": [
    "df_grouped['Postcode']=df_grouped['Postcode'].astype('int64')\n",
    "df_main=df_grouped.merge(df_crime,on='Postcode')\n",
    "df_main1=df_main[['Postcode','Suburb','Longitude','Latitude','Incidents Recorded']]"
   ]
  },
  {
   "cell_type": "code",
   "execution_count": 12,
   "metadata": {},
   "outputs": [
    {
     "data": {
      "text/html": [
       "<div>\n",
       "<style scoped>\n",
       "    .dataframe tbody tr th:only-of-type {\n",
       "        vertical-align: middle;\n",
       "    }\n",
       "\n",
       "    .dataframe tbody tr th {\n",
       "        vertical-align: top;\n",
       "    }\n",
       "\n",
       "    .dataframe thead th {\n",
       "        text-align: right;\n",
       "    }\n",
       "</style>\n",
       "<table border=\"1\" class=\"dataframe\">\n",
       "  <thead>\n",
       "    <tr style=\"text-align: right;\">\n",
       "      <th></th>\n",
       "      <th>Postcode</th>\n",
       "      <th>Suburb</th>\n",
       "      <th>Longitude</th>\n",
       "      <th>Latitude</th>\n",
       "      <th>Incidents Recorded</th>\n",
       "    </tr>\n",
       "  </thead>\n",
       "  <tbody>\n",
       "    <tr>\n",
       "      <th>0</th>\n",
       "      <td>3000</td>\n",
       "      <td>MELBOURNE</td>\n",
       "      <td>144.956776</td>\n",
       "      <td>-37.817403</td>\n",
       "      <td>148273</td>\n",
       "    </tr>\n",
       "    <tr>\n",
       "      <th>1</th>\n",
       "      <td>3002</td>\n",
       "      <td>EAST_MELBOURNE</td>\n",
       "      <td>144.982207</td>\n",
       "      <td>-37.818517</td>\n",
       "      <td>7572</td>\n",
       "    </tr>\n",
       "    <tr>\n",
       "      <th>2</th>\n",
       "      <td>3003</td>\n",
       "      <td>WEST_MELBOURNE</td>\n",
       "      <td>144.949592</td>\n",
       "      <td>-37.810871</td>\n",
       "      <td>6812</td>\n",
       "    </tr>\n",
       "    <tr>\n",
       "      <th>3</th>\n",
       "      <td>3004</td>\n",
       "      <td>MELBOURNE ST_KILDA_ROAD_CENTRAL</td>\n",
       "      <td>144.970161</td>\n",
       "      <td>-37.844246</td>\n",
       "      <td>7453</td>\n",
       "    </tr>\n",
       "    <tr>\n",
       "      <th>4</th>\n",
       "      <td>3005</td>\n",
       "      <td>WORLD_TRADE_CENTRE</td>\n",
       "      <td>144.950858</td>\n",
       "      <td>-37.824608</td>\n",
       "      <td>671</td>\n",
       "    </tr>\n",
       "  </tbody>\n",
       "</table>\n",
       "</div>"
      ],
      "text/plain": [
       "   Postcode                           Suburb   Longitude   Latitude  \\\n",
       "0      3000                       MELBOURNE   144.956776 -37.817403   \n",
       "1      3002                   EAST_MELBOURNE  144.982207 -37.818517   \n",
       "2      3003                   WEST_MELBOURNE  144.949592 -37.810871   \n",
       "3      3004  MELBOURNE ST_KILDA_ROAD_CENTRAL  144.970161 -37.844246   \n",
       "4      3005               WORLD_TRADE_CENTRE  144.950858 -37.824608   \n",
       "\n",
       "   Incidents Recorded  \n",
       "0              148273  \n",
       "1                7572  \n",
       "2                6812  \n",
       "3                7453  \n",
       "4                 671  "
      ]
     },
     "execution_count": 12,
     "metadata": {},
     "output_type": "execute_result"
    }
   ],
   "source": [
    "df_main1.head()"
   ]
  },
  {
   "cell_type": "markdown",
   "metadata": {},
   "source": [
    "----\n",
    "### Foursquare data\n",
    "\n",
    "Now, we use the foursquare to get the information about the restaurants in Melboune suburbs. First, we need to use our client id and secret for calling Foursquare API."
   ]
  },
  {
   "cell_type": "code",
   "execution_count": 13,
   "metadata": {},
   "outputs": [],
   "source": [
    "CLIENT_ID = 'VHKUTYEQ1M5PALROLDQCNEELUV5FUXPLNJAOPO0MWFCCOCTU' # your Foursquare ID\n",
    "CLIENT_SECRET = 'W0YKRNXEMWDR5WPEMZHP53XRD24ZM3FF4SICPK2KSR25BKIH' # your Foursquare Secret3\n",
    "cat_id='4d4b7105d754a06374d81259' # food venues id\n",
    "neighborhood_latitude=-37.817403\n",
    "neighborhood_longitude=144.956776\n",
    "VERSION = '20180604'\n",
    "LIMIT = 100 # limit of number of venues returned by Foursquare API\n",
    "radius = 500 # define radius\n"
   ]
  },
  {
   "cell_type": "markdown",
   "metadata": {},
   "source": [
    "----\n",
    "The following function get the venues in a suburb and return them."
   ]
  },
  {
   "cell_type": "code",
   "execution_count": 14,
   "metadata": {},
   "outputs": [],
   "source": [
    "def getNearbyVenues(names, postcode, latitudes, longitudes, radius=500):\n",
    "    \n",
    "    venues_list=[]\n",
    "    for name,post, lat, lng in zip(names,postcode, latitudes, longitudes):\n",
    "#        print(name)\n",
    "            \n",
    "        # create the API request URL\n",
    "        url = 'https://api.foursquare.com/v2/venues/explore?&categoryId={}&client_id={}&client_secret={}&v={}&ll={},{}&radius={}&limit={}'.format(\n",
    "            cat_id,\n",
    "            CLIENT_ID, \n",
    "            CLIENT_SECRET, \n",
    "            VERSION, \n",
    "            lat, \n",
    "            lng, \n",
    "            radius, \n",
    "            LIMIT)\n",
    "            \n",
    "        # make the GET request\n",
    "        results = requests.get(url).json()[\"response\"]['groups'][0]['items']\n",
    "        \n",
    "        # return only relevant information for each nearby venue\n",
    "        venues_list.append([(\n",
    "            name,\n",
    "            post,\n",
    "            lat, \n",
    "            lng, \n",
    "            v['venue']['name'], \n",
    "            v['venue']['location']['lat'], \n",
    "            v['venue']['location']['lng'],  \n",
    "            v['venue']['categories'][0]['name']) for v in results])\n",
    "\n",
    "    nearby_venues = pd.DataFrame([item for venue_list in venues_list for item in venue_list])\n",
    "    nearby_venues.columns = ['Suburb', 'Postcode',\n",
    "                  'Latitude', \n",
    "                  'Longitude', \n",
    "                  'Venue', \n",
    "                  'Venue Latitude', \n",
    "                  'Venue Longitude', \n",
    "                  'Venue Category']\n",
    "    \n",
    "    return(nearby_venues)"
   ]
  },
  {
   "cell_type": "markdown",
   "metadata": {},
   "source": [
    "----\n",
    "Let's explore each postcode to find the venues in each of them and make a dataframe for that."
   ]
  },
  {
   "cell_type": "code",
   "execution_count": 180,
   "metadata": {},
   "outputs": [],
   "source": [
    "df_100=df_main1.head(20)\n",
    "Melb_venues = getNearbyVenues(names=df_100['Suburb'],\n",
    "                              postcode=df_main1['Postcode'],\n",
    "                                   latitudes=df_main1['Latitude'],\n",
    "                                   longitudes=df_main1['Longitude']\n",
    "                                  )"
   ]
  },
  {
   "cell_type": "markdown",
   "metadata": {},
   "source": [
    "Now, we need to first find the number of restaurants for each suburb using the `groupby` and `count` command. Then, we merge the resultant dataframe to the crime datafram to get `Melb_venues_crimes`."
   ]
  },
  {
   "cell_type": "code",
   "execution_count": 215,
   "metadata": {},
   "outputs": [
    {
     "data": {
      "text/html": [
       "<div>\n",
       "<style scoped>\n",
       "    .dataframe tbody tr th:only-of-type {\n",
       "        vertical-align: middle;\n",
       "    }\n",
       "\n",
       "    .dataframe tbody tr th {\n",
       "        vertical-align: top;\n",
       "    }\n",
       "\n",
       "    .dataframe thead th {\n",
       "        text-align: right;\n",
       "    }\n",
       "</style>\n",
       "<table border=\"1\" class=\"dataframe\">\n",
       "  <thead>\n",
       "    <tr style=\"text-align: right;\">\n",
       "      <th></th>\n",
       "      <th>Suburb</th>\n",
       "      <th>Latitude</th>\n",
       "      <th>Longitude</th>\n",
       "      <th>Postcode</th>\n",
       "      <th>No Restaurants</th>\n",
       "      <th>Incidents Recorded</th>\n",
       "    </tr>\n",
       "  </thead>\n",
       "  <tbody>\n",
       "    <tr>\n",
       "      <th>16</th>\n",
       "      <td>ALBANVALE KEALBA    KINGS_PARKST_ALBANS</td>\n",
       "      <td>-37.743361</td>\n",
       "      <td>144.796693</td>\n",
       "      <td>3021</td>\n",
       "      <td>12</td>\n",
       "      <td>37309</td>\n",
       "    </tr>\n",
       "    <tr>\n",
       "      <th>15</th>\n",
       "      <td>ALBION    GLENGALA  SUNSHINE  SUNSHINE_NORTHSU...</td>\n",
       "      <td>-37.777204</td>\n",
       "      <td>144.829945</td>\n",
       "      <td>3020</td>\n",
       "      <td>12</td>\n",
       "      <td>47594</td>\n",
       "    </tr>\n",
       "    <tr>\n",
       "      <th>13</th>\n",
       "      <td>ALTONA    SEAHOLME</td>\n",
       "      <td>-37.861720</td>\n",
       "      <td>144.812736</td>\n",
       "      <td>3018</td>\n",
       "      <td>5</td>\n",
       "      <td>7096</td>\n",
       "    </tr>\n",
       "    <tr>\n",
       "      <th>17</th>\n",
       "      <td>ARDEER    DEER_PARK_EAST</td>\n",
       "      <td>-37.795937</td>\n",
       "      <td>144.793961</td>\n",
       "      <td>3022</td>\n",
       "      <td>1</td>\n",
       "      <td>3682</td>\n",
       "    </tr>\n",
       "    <tr>\n",
       "      <th>14</th>\n",
       "      <td>BRAYBROOK BRAYBROOK_NORTHROBINSON</td>\n",
       "      <td>-37.784683</td>\n",
       "      <td>144.854014</td>\n",
       "      <td>3019</td>\n",
       "      <td>3</td>\n",
       "      <td>9498</td>\n",
       "    </tr>\n",
       "    <tr>\n",
       "      <th>6</th>\n",
       "      <td>DOCKLANDS</td>\n",
       "      <td>-37.814719</td>\n",
       "      <td>144.948039</td>\n",
       "      <td>3008</td>\n",
       "      <td>61</td>\n",
       "      <td>15308</td>\n",
       "    </tr>\n",
       "    <tr>\n",
       "      <th>1</th>\n",
       "      <td>EAST_MELBOURNE</td>\n",
       "      <td>-37.818517</td>\n",
       "      <td>144.982207</td>\n",
       "      <td>3002</td>\n",
       "      <td>14</td>\n",
       "      <td>7572</td>\n",
       "    </tr>\n",
       "    <tr>\n",
       "      <th>8</th>\n",
       "      <td>FOOTSCRAY SEDDON    SEDDON_WEST</td>\n",
       "      <td>-37.807101</td>\n",
       "      <td>144.907953</td>\n",
       "      <td>3011</td>\n",
       "      <td>4</td>\n",
       "      <td>25150</td>\n",
       "    </tr>\n",
       "    <tr>\n",
       "      <th>0</th>\n",
       "      <td>MELBOURNE</td>\n",
       "      <td>-37.817403</td>\n",
       "      <td>144.956776</td>\n",
       "      <td>3000</td>\n",
       "      <td>70</td>\n",
       "      <td>148273</td>\n",
       "    </tr>\n",
       "    <tr>\n",
       "      <th>3</th>\n",
       "      <td>MELBOURNE ST_KILDA_ROAD_CENTRAL</td>\n",
       "      <td>-37.844246</td>\n",
       "      <td>144.970161</td>\n",
       "      <td>3004</td>\n",
       "      <td>4</td>\n",
       "      <td>7453</td>\n",
       "    </tr>\n",
       "    <tr>\n",
       "      <th>11</th>\n",
       "      <td>NEWPORT   SOUTH_KINGSVILLESPOTSWOOD</td>\n",
       "      <td>-37.838242</td>\n",
       "      <td>144.880556</td>\n",
       "      <td>3015</td>\n",
       "      <td>6</td>\n",
       "      <td>9118</td>\n",
       "    </tr>\n",
       "    <tr>\n",
       "      <th>5</th>\n",
       "      <td>SOUTH_WHARFSOUTHBANK</td>\n",
       "      <td>-37.824272</td>\n",
       "      <td>144.959000</td>\n",
       "      <td>3006</td>\n",
       "      <td>45</td>\n",
       "      <td>24358</td>\n",
       "    </tr>\n",
       "    <tr>\n",
       "      <th>7</th>\n",
       "      <td>UNIVERSITY_OF_MELBOURNE</td>\n",
       "      <td>-37.796152</td>\n",
       "      <td>144.961351</td>\n",
       "      <td>3010</td>\n",
       "      <td>24</td>\n",
       "      <td>880</td>\n",
       "    </tr>\n",
       "    <tr>\n",
       "      <th>2</th>\n",
       "      <td>WEST_MELBOURNE</td>\n",
       "      <td>-37.810871</td>\n",
       "      <td>144.949592</td>\n",
       "      <td>3003</td>\n",
       "      <td>21</td>\n",
       "      <td>6812</td>\n",
       "    </tr>\n",
       "    <tr>\n",
       "      <th>12</th>\n",
       "      <td>WILLIAMSTOWNWILLIAMSTOWN_NORTH</td>\n",
       "      <td>-37.863743</td>\n",
       "      <td>144.888461</td>\n",
       "      <td>3016</td>\n",
       "      <td>3</td>\n",
       "      <td>9665</td>\n",
       "    </tr>\n",
       "    <tr>\n",
       "      <th>4</th>\n",
       "      <td>WORLD_TRADE_CENTRE</td>\n",
       "      <td>-37.824608</td>\n",
       "      <td>144.950858</td>\n",
       "      <td>3005</td>\n",
       "      <td>33</td>\n",
       "      <td>671</td>\n",
       "    </tr>\n",
       "    <tr>\n",
       "      <th>10</th>\n",
       "      <td>YARRAVILLEYARRAVILLE_WEST</td>\n",
       "      <td>-37.814183</td>\n",
       "      <td>144.888686</td>\n",
       "      <td>3013</td>\n",
       "      <td>32</td>\n",
       "      <td>7049</td>\n",
       "    </tr>\n",
       "    <tr>\n",
       "      <th>9</th>\n",
       "      <td>BROOKLYN  KINGSVILLEKINGSVILLE_WESTMAIDSTONE T...</td>\n",
       "      <td>-37.807135</td>\n",
       "      <td>144.861162</td>\n",
       "      <td>3012</td>\n",
       "      <td>0</td>\n",
       "      <td>16537</td>\n",
       "    </tr>\n",
       "    <tr>\n",
       "      <th>18</th>\n",
       "      <td>BURNSIDE  BURNSIDE_HEIGHTSCAIRNLEA  CAROLINE_S...</td>\n",
       "      <td>-37.775501</td>\n",
       "      <td>144.768500</td>\n",
       "      <td>3023</td>\n",
       "      <td>0</td>\n",
       "      <td>31644</td>\n",
       "    </tr>\n",
       "    <tr>\n",
       "      <th>19</th>\n",
       "      <td>FIELDSTONEMAMBOURIN MANOR_LAKESMOUNT_COTTRELLW...</td>\n",
       "      <td>-37.863403</td>\n",
       "      <td>144.580165</td>\n",
       "      <td>3024</td>\n",
       "      <td>0</td>\n",
       "      <td>10275</td>\n",
       "    </tr>\n",
       "  </tbody>\n",
       "</table>\n",
       "</div>"
      ],
      "text/plain": [
       "                                               Suburb   Latitude   Longitude  \\\n",
       "16           ALBANVALE KEALBA    KINGS_PARKST_ALBANS  -37.743361  144.796693   \n",
       "15  ALBION    GLENGALA  SUNSHINE  SUNSHINE_NORTHSU... -37.777204  144.829945   \n",
       "13                               ALTONA    SEAHOLME   -37.861720  144.812736   \n",
       "17                           ARDEER    DEER_PARK_EAST -37.795937  144.793961   \n",
       "14                BRAYBROOK BRAYBROOK_NORTHROBINSON   -37.784683  144.854014   \n",
       "6                                          DOCKLANDS  -37.814719  144.948039   \n",
       "1                                      EAST_MELBOURNE -37.818517  144.982207   \n",
       "8                     FOOTSCRAY SEDDON    SEDDON_WEST -37.807101  144.907953   \n",
       "0                                          MELBOURNE  -37.817403  144.956776   \n",
       "3                     MELBOURNE ST_KILDA_ROAD_CENTRAL -37.844246  144.970161   \n",
       "11               NEWPORT   SOUTH_KINGSVILLESPOTSWOOD  -37.838242  144.880556   \n",
       "5                               SOUTH_WHARFSOUTHBANK  -37.824272  144.959000   \n",
       "7                             UNIVERSITY_OF_MELBOURNE -37.796152  144.961351   \n",
       "2                                      WEST_MELBOURNE -37.810871  144.949592   \n",
       "12                     WILLIAMSTOWNWILLIAMSTOWN_NORTH -37.863743  144.888461   \n",
       "4                                  WORLD_TRADE_CENTRE -37.824608  144.950858   \n",
       "10                          YARRAVILLEYARRAVILLE_WEST -37.814183  144.888686   \n",
       "9   BROOKLYN  KINGSVILLEKINGSVILLE_WESTMAIDSTONE T... -37.807135  144.861162   \n",
       "18  BURNSIDE  BURNSIDE_HEIGHTSCAIRNLEA  CAROLINE_S... -37.775501  144.768500   \n",
       "19  FIELDSTONEMAMBOURIN MANOR_LAKESMOUNT_COTTRELLW... -37.863403  144.580165   \n",
       "\n",
       "    Postcode  No Restaurants  Incidents Recorded  \n",
       "16      3021              12               37309  \n",
       "15      3020              12               47594  \n",
       "13      3018               5                7096  \n",
       "17      3022               1                3682  \n",
       "14      3019               3                9498  \n",
       "6       3008              61               15308  \n",
       "1       3002              14                7572  \n",
       "8       3011               4               25150  \n",
       "0       3000              70              148273  \n",
       "3       3004               4                7453  \n",
       "11      3015               6                9118  \n",
       "5       3006              45               24358  \n",
       "7       3010              24                 880  \n",
       "2       3003              21                6812  \n",
       "12      3016               3                9665  \n",
       "4       3005              33                 671  \n",
       "10      3013              32                7049  \n",
       "9       3012               0               16537  \n",
       "18      3023               0               31644  \n",
       "19      3024               0               10275  "
      ]
     },
     "execution_count": 215,
     "metadata": {},
     "output_type": "execute_result"
    }
   ],
   "source": [
    "restaurants=Melb_venues\n",
    "del Melb_venues_crimes\n",
    "restaurants=restaurants.groupby(['Suburb','Latitude','Longitude','Postcode'],as_index=False)['Venue'].count()\n",
    "restaurants.rename(columns={'Venue':'No Restaurants'},inplace=True)\n",
    "Melb_venues_crimes=restaurants.merge(df_100, left_index=True, right_index=False, how='outer',on=['Postcode','Suburb','Longitude','Latitude'])\n",
    "Melb_venues_crimes=Melb_venues_crimes.fillna(0)\n",
    "Melb_venues_crimes = Melb_venues_crimes.astype({\"No Restaurants\": int})\n",
    "Melb_venues_crimes"
   ]
  },
  {
   "cell_type": "markdown",
   "metadata": {},
   "source": [
    "----\n",
    "### 3. Methodology and Analysis"
   ]
  },
  {
   "cell_type": "markdown",
   "metadata": {},
   "source": [
    "Let's look at some of the statisitical information of the suburbs using `describe`."
   ]
  },
  {
   "cell_type": "code",
   "execution_count": 216,
   "metadata": {
    "scrolled": true
   },
   "outputs": [
    {
     "data": {
      "text/html": [
       "<div>\n",
       "<style scoped>\n",
       "    .dataframe tbody tr th:only-of-type {\n",
       "        vertical-align: middle;\n",
       "    }\n",
       "\n",
       "    .dataframe tbody tr th {\n",
       "        vertical-align: top;\n",
       "    }\n",
       "\n",
       "    .dataframe thead th {\n",
       "        text-align: right;\n",
       "    }\n",
       "</style>\n",
       "<table border=\"1\" class=\"dataframe\">\n",
       "  <thead>\n",
       "    <tr style=\"text-align: right;\">\n",
       "      <th></th>\n",
       "      <th>Latitude</th>\n",
       "      <th>Longitude</th>\n",
       "      <th>Postcode</th>\n",
       "      <th>No Restaurants</th>\n",
       "      <th>Incidents Recorded</th>\n",
       "    </tr>\n",
       "  </thead>\n",
       "  <tbody>\n",
       "    <tr>\n",
       "      <th>count</th>\n",
       "      <td>20.000000</td>\n",
       "      <td>20.000000</td>\n",
       "      <td>20.000000</td>\n",
       "      <td>20.00000</td>\n",
       "      <td>20.000000</td>\n",
       "    </tr>\n",
       "    <tr>\n",
       "      <th>mean</th>\n",
       "      <td>-37.814150</td>\n",
       "      <td>144.877041</td>\n",
       "      <td>3012.600000</td>\n",
       "      <td>17.50000</td>\n",
       "      <td>21297.200000</td>\n",
       "    </tr>\n",
       "    <tr>\n",
       "      <th>std</th>\n",
       "      <td>0.031102</td>\n",
       "      <td>0.096603</td>\n",
       "      <td>7.639234</td>\n",
       "      <td>20.83393</td>\n",
       "      <td>32405.368154</td>\n",
       "    </tr>\n",
       "    <tr>\n",
       "      <th>min</th>\n",
       "      <td>-37.863743</td>\n",
       "      <td>144.580165</td>\n",
       "      <td>3000.000000</td>\n",
       "      <td>0.00000</td>\n",
       "      <td>671.000000</td>\n",
       "    </tr>\n",
       "    <tr>\n",
       "      <th>25%</th>\n",
       "      <td>-37.828016</td>\n",
       "      <td>144.825643</td>\n",
       "      <td>3005.750000</td>\n",
       "      <td>3.00000</td>\n",
       "      <td>7084.250000</td>\n",
       "    </tr>\n",
       "    <tr>\n",
       "      <th>50%</th>\n",
       "      <td>-37.814451</td>\n",
       "      <td>144.888574</td>\n",
       "      <td>3012.500000</td>\n",
       "      <td>9.00000</td>\n",
       "      <td>9581.500000</td>\n",
       "    </tr>\n",
       "    <tr>\n",
       "      <th>75%</th>\n",
       "      <td>-37.796098</td>\n",
       "      <td>144.952337</td>\n",
       "      <td>3019.250000</td>\n",
       "      <td>26.00000</td>\n",
       "      <td>24556.000000</td>\n",
       "    </tr>\n",
       "    <tr>\n",
       "      <th>max</th>\n",
       "      <td>-37.743361</td>\n",
       "      <td>144.982207</td>\n",
       "      <td>3024.000000</td>\n",
       "      <td>70.00000</td>\n",
       "      <td>148273.000000</td>\n",
       "    </tr>\n",
       "  </tbody>\n",
       "</table>\n",
       "</div>"
      ],
      "text/plain": [
       "        Latitude   Longitude     Postcode  No Restaurants  Incidents Recorded\n",
       "count  20.000000   20.000000    20.000000        20.00000           20.000000\n",
       "mean  -37.814150  144.877041  3012.600000        17.50000        21297.200000\n",
       "std     0.031102    0.096603     7.639234        20.83393        32405.368154\n",
       "min   -37.863743  144.580165  3000.000000         0.00000          671.000000\n",
       "25%   -37.828016  144.825643  3005.750000         3.00000         7084.250000\n",
       "50%   -37.814451  144.888574  3012.500000         9.00000         9581.500000\n",
       "75%   -37.796098  144.952337  3019.250000        26.00000        24556.000000\n",
       "max   -37.743361  144.982207  3024.000000        70.00000       148273.000000"
      ]
     },
     "execution_count": 216,
     "metadata": {},
     "output_type": "execute_result"
    }
   ],
   "source": [
    "Melb_venues_crimes.describe()"
   ]
  },
  {
   "cell_type": "markdown",
   "metadata": {},
   "source": [
    "Now, let's plot visulaize the data to draw some insight from that. First, we look at the histogram of the number of crime for all studied suburbs. We can see that Postcode=3000 has significantly higher number of crimes."
   ]
  },
  {
   "cell_type": "code",
   "execution_count": 217,
   "metadata": {},
   "outputs": [
    {
     "data": {
      "text/plain": [
       "Text(0, 0.5, 'Number of Crimes')"
      ]
     },
     "execution_count": 217,
     "metadata": {},
     "output_type": "execute_result"
    },
    {
     "data": {
      "image/png": "[encoded data removed]",
      "text/plain": [
       "<Figure size 576x432 with 1 Axes>"
      ]
     },
     "metadata": {
      "needs_background": "light"
     },
     "output_type": "display_data"
    }
   ],
   "source": [
    "import matplotlib.pyplot as plt\n",
    "Melb_venues_crimes.set_index('Postcode',inplace=True)\n",
    "Melb_venues_crimes[['Incidents Recorded']].plot(kind='bar',figsize=(8, 6),legend=None)\n",
    "plt.ylabel('Number of Crimes')"
   ]
  },
  {
   "cell_type": "markdown",
   "metadata": {},
   "source": [
    "Then, we look ath the histogram of the number of restaurants for all studied suburbs. Interestingly, Postcode=3012 does not have any restaurant. It might be  a good suburb for openning the restaurant but we need to do more investigration before drawing conclusions."
   ]
  },
  {
   "cell_type": "code",
   "execution_count": 218,
   "metadata": {},
   "outputs": [
    {
     "data": {
      "text/plain": [
       "Text(0, 0.5, 'Number of Restaurants')"
      ]
     },
     "execution_count": 218,
     "metadata": {},
     "output_type": "execute_result"
    },
    {
     "data": {
      "image/png": "[encoded data removed]",
      "text/plain": [
       "<Figure size 576x432 with 1 Axes>"
      ]
     },
     "metadata": {
      "needs_background": "light"
     },
     "output_type": "display_data"
    }
   ],
   "source": [
    "#Melb_venues_crimes.set_index('Postcode',inplace=True)\n",
    "Melb_venues_crimes[['No Restaurants']].plot(kind='bar',figsize=(8, 6),legend=None)\n",
    "plt.ylabel('Number of Restaurants')"
   ]
  },
  {
   "cell_type": "markdown",
   "metadata": {},
   "source": [
    "----\n",
    "To compare the results side by side and as percentages, which gives better idea of the data we use the pie chart to plot number of restaurant and crimes for different stuided suburbs."
   ]
  },
  {
   "cell_type": "code",
   "execution_count": 219,
   "metadata": {},
   "outputs": [
    {
     "data": {
      "image/png": "[encoded data removed]",
      "text/plain": [
       "<Figure size 1152x1152 with 2 Axes>"
      ]
     },
     "metadata": {},
     "output_type": "display_data"
    }
   ],
   "source": [
    "Melb_venues_crimes.reset_index(inplace=True)\n",
    "Melb_venues_crimes.sort_values(by=['No Restaurants'],inplace=True)\n",
    "def autopct_more_than_5(pct):\n",
    "    return ('%1.f%%' % pct) if pct > 5 else ''\n",
    "explode=np.zeros(Melb_venues_crimes.shape[0])\n",
    "explode[-3:-1]=.1 \n",
    "explode[-1]=.1\n",
    "plt.subplot(221)\n",
    "plt.pie(Melb_venues_crimes['No Restaurants'],autopct=autopct_more_than_5,explode=explode,textprops={'size': 'smaller'},labels=Melb_venues_crimes['Postcode'])\n",
    "plt.title('Restaurants distribution for suburbs', bbox={'facecolor':'0.8', 'pad':5})\n",
    "plt.subplot(222)\n",
    "plt.pie(Melb_venues_crimes['Incidents Recorded'],autopct=autopct_more_than_5,explode=explode,textprops={'size': 'smaller'},labels=Melb_venues_crimes['Postcode'])\n",
    "plt.title('Crime distribution for suburbs', bbox={'facecolor':'0.8', 'pad':5})\n",
    "\n",
    "fig = plt.gcf()\n",
    "fig.set_size_inches(16,16)"
   ]
  },
  {
   "cell_type": "markdown",
   "metadata": {},
   "source": [
    "----\n",
    "Finally, we use the scatter plot of the number of crimes versus number of restaurants for all suburbs that we studied. This graph gives us useful information about the suburbs and the possible number of clusters for clustering of the suburbs, about which we explain in the next section."
   ]
  },
  {
   "cell_type": "code",
   "execution_count": 220,
   "metadata": {},
   "outputs": [
    {
     "data": {
      "text/plain": [
       "Text(0.5, 1.0, 'Crime vs No. of restaurants')"
      ]
     },
     "execution_count": 220,
     "metadata": {},
     "output_type": "execute_result"
    },
    {
     "data": {
      "image/png": "[encoded data removed]",
      "text/plain": [
       "<Figure size 432x288 with 1 Axes>"
      ]
     },
     "metadata": {
      "needs_background": "light"
     },
     "output_type": "display_data"
    }
   ],
   "source": [
    "plt.scatter(Melb_venues_crimes['No Restaurants'].values,Melb_venues_crimes['Incidents Recorded'].values)\n",
    "plt.xlabel('Number of Restaurants')\n",
    "plt.ylabel('Number of Crimes')\n",
    "plt.title('Crime vs No. of restaurants', bbox={'facecolor':'0.8', 'pad':5})\n"
   ]
  },
  {
   "cell_type": "markdown",
   "metadata": {},
   "source": [
    "----\n",
    "### Clustering"
   ]
  },
  {
   "cell_type": "markdown",
   "metadata": {},
   "source": [
    "Now, we need to cluster the suburbs to find those which have similar features and put them in a same group. We need to first drop unnecessary cloumns from `Melb_venues_crimes` dataframe and then standardise its data. We use the K-means method here which is an unsupervised method to cluster these suburbs. We need to first determine the optimal number of clusters using the elbow method."
   ]
  },
  {
   "cell_type": "code",
   "execution_count": 221,
   "metadata": {},
   "outputs": [
    {
     "data": {
      "image/png": "[encoded data removed]",
      "text/plain": [
       "<Figure size 432x288 with 1 Axes>"
      ]
     },
     "metadata": {
      "needs_background": "light"
     },
     "output_type": "display_data"
    }
   ],
   "source": [
    "# set number of clusters\n",
    "from sklearn.preprocessing import StandardScaler\n",
    "\n",
    "from sklearn.cluster import KMeans\n",
    "from sklearn import metrics\n",
    "from scipy.spatial.distance import cdist\n",
    "import numpy as np\n",
    "\n",
    "Melb_venues_clusters = Melb_venues_crimes.drop(['Suburb','Postcode','Latitude','Longitude'], 1)\n",
    "Melb_venues_clusters=StandardScaler().fit_transform(Melb_venues_clusters)\n",
    "\n",
    "distortions = []\n",
    "K = range(1,10)\n",
    "for k in K:\n",
    "    kmeanModel = KMeans(n_clusters=k,random_state=0).fit(Melb_venues_clusters)\n",
    "    distortions.append(sum(np.min(cdist(Melb_venues_clusters, kmeanModel.cluster_centers_, 'euclidean'), axis=1)) / Melb_venues_clusters.shape[0])\n",
    "\n",
    "# Plot the elbow\n",
    "plt.plot(K, distortions, 'bx-')\n",
    "plt.xlabel('k')\n",
    "plt.ylabel('Distortion')\n",
    "plt.title('The Elbow Method showing the optimal k')\n",
    "plt.show()\n",
    "\n"
   ]
  },
  {
   "cell_type": "markdown",
   "metadata": {},
   "source": [
    "The above figure shows that the optimal number of clusters for this problem is 5. Therefore, we develop a k-means clustering model using k=5."
   ]
  },
  {
   "cell_type": "code",
   "execution_count": 222,
   "metadata": {},
   "outputs": [
    {
     "data": {
      "text/plain": [
       "array([4, 4, 1, 4, 4, 4, 1, 4, 4, 4])"
      ]
     },
     "execution_count": 222,
     "metadata": {},
     "output_type": "execute_result"
    }
   ],
   "source": [
    "kclusters = 5\n",
    "\n",
    "# run k-means clustering\n",
    "kmeans = KMeans(n_clusters=kclusters, random_state=0).fit(Melb_venues_clusters)\n",
    "\n",
    "# check cluster labels generated for each row in the dataframe\n",
    "kmeans.labels_[0:10]"
   ]
  },
  {
   "cell_type": "markdown",
   "metadata": {},
   "source": [
    "Let's add the cluster labels to the data frame."
   ]
  },
  {
   "cell_type": "code",
   "execution_count": 223,
   "metadata": {},
   "outputs": [
    {
     "data": {
      "text/html": [
       "<div>\n",
       "<style scoped>\n",
       "    .dataframe tbody tr th:only-of-type {\n",
       "        vertical-align: middle;\n",
       "    }\n",
       "\n",
       "    .dataframe tbody tr th {\n",
       "        vertical-align: top;\n",
       "    }\n",
       "\n",
       "    .dataframe thead th {\n",
       "        text-align: right;\n",
       "    }\n",
       "</style>\n",
       "<table border=\"1\" class=\"dataframe\">\n",
       "  <thead>\n",
       "    <tr style=\"text-align: right;\">\n",
       "      <th></th>\n",
       "      <th>Cluster Labels</th>\n",
       "      <th>Postcode</th>\n",
       "      <th>Suburb</th>\n",
       "      <th>Latitude</th>\n",
       "      <th>Longitude</th>\n",
       "      <th>No Restaurants</th>\n",
       "      <th>Incidents Recorded</th>\n",
       "    </tr>\n",
       "  </thead>\n",
       "  <tbody>\n",
       "    <tr>\n",
       "      <th>0</th>\n",
       "      <td>1</td>\n",
       "      <td>3021</td>\n",
       "      <td>ALBANVALE KEALBA    KINGS_PARKST_ALBANS</td>\n",
       "      <td>-37.743361</td>\n",
       "      <td>144.796693</td>\n",
       "      <td>12</td>\n",
       "      <td>37309</td>\n",
       "    </tr>\n",
       "    <tr>\n",
       "      <th>1</th>\n",
       "      <td>1</td>\n",
       "      <td>3020</td>\n",
       "      <td>ALBION    GLENGALA  SUNSHINE  SUNSHINE_NORTHSU...</td>\n",
       "      <td>-37.777204</td>\n",
       "      <td>144.829945</td>\n",
       "      <td>12</td>\n",
       "      <td>47594</td>\n",
       "    </tr>\n",
       "    <tr>\n",
       "      <th>2</th>\n",
       "      <td>4</td>\n",
       "      <td>3018</td>\n",
       "      <td>ALTONA    SEAHOLME</td>\n",
       "      <td>-37.861720</td>\n",
       "      <td>144.812736</td>\n",
       "      <td>5</td>\n",
       "      <td>7096</td>\n",
       "    </tr>\n",
       "    <tr>\n",
       "      <th>3</th>\n",
       "      <td>4</td>\n",
       "      <td>3022</td>\n",
       "      <td>ARDEER    DEER_PARK_EAST</td>\n",
       "      <td>-37.795937</td>\n",
       "      <td>144.793961</td>\n",
       "      <td>1</td>\n",
       "      <td>3682</td>\n",
       "    </tr>\n",
       "    <tr>\n",
       "      <th>4</th>\n",
       "      <td>4</td>\n",
       "      <td>3019</td>\n",
       "      <td>BRAYBROOK BRAYBROOK_NORTHROBINSON</td>\n",
       "      <td>-37.784683</td>\n",
       "      <td>144.854014</td>\n",
       "      <td>3</td>\n",
       "      <td>9498</td>\n",
       "    </tr>\n",
       "    <tr>\n",
       "      <th>5</th>\n",
       "      <td>0</td>\n",
       "      <td>3008</td>\n",
       "      <td>DOCKLANDS</td>\n",
       "      <td>-37.814719</td>\n",
       "      <td>144.948039</td>\n",
       "      <td>61</td>\n",
       "      <td>15308</td>\n",
       "    </tr>\n",
       "    <tr>\n",
       "      <th>6</th>\n",
       "      <td>4</td>\n",
       "      <td>3002</td>\n",
       "      <td>EAST_MELBOURNE</td>\n",
       "      <td>-37.818517</td>\n",
       "      <td>144.982207</td>\n",
       "      <td>14</td>\n",
       "      <td>7572</td>\n",
       "    </tr>\n",
       "    <tr>\n",
       "      <th>7</th>\n",
       "      <td>1</td>\n",
       "      <td>3011</td>\n",
       "      <td>FOOTSCRAY SEDDON    SEDDON_WEST</td>\n",
       "      <td>-37.807101</td>\n",
       "      <td>144.907953</td>\n",
       "      <td>4</td>\n",
       "      <td>25150</td>\n",
       "    </tr>\n",
       "    <tr>\n",
       "      <th>8</th>\n",
       "      <td>2</td>\n",
       "      <td>3000</td>\n",
       "      <td>MELBOURNE</td>\n",
       "      <td>-37.817403</td>\n",
       "      <td>144.956776</td>\n",
       "      <td>70</td>\n",
       "      <td>148273</td>\n",
       "    </tr>\n",
       "    <tr>\n",
       "      <th>9</th>\n",
       "      <td>4</td>\n",
       "      <td>3004</td>\n",
       "      <td>MELBOURNE ST_KILDA_ROAD_CENTRAL</td>\n",
       "      <td>-37.844246</td>\n",
       "      <td>144.970161</td>\n",
       "      <td>4</td>\n",
       "      <td>7453</td>\n",
       "    </tr>\n",
       "    <tr>\n",
       "      <th>10</th>\n",
       "      <td>4</td>\n",
       "      <td>3015</td>\n",
       "      <td>NEWPORT   SOUTH_KINGSVILLESPOTSWOOD</td>\n",
       "      <td>-37.838242</td>\n",
       "      <td>144.880556</td>\n",
       "      <td>6</td>\n",
       "      <td>9118</td>\n",
       "    </tr>\n",
       "    <tr>\n",
       "      <th>11</th>\n",
       "      <td>0</td>\n",
       "      <td>3006</td>\n",
       "      <td>SOUTH_WHARFSOUTHBANK</td>\n",
       "      <td>-37.824272</td>\n",
       "      <td>144.959000</td>\n",
       "      <td>45</td>\n",
       "      <td>24358</td>\n",
       "    </tr>\n",
       "    <tr>\n",
       "      <th>12</th>\n",
       "      <td>3</td>\n",
       "      <td>3010</td>\n",
       "      <td>UNIVERSITY_OF_MELBOURNE</td>\n",
       "      <td>-37.796152</td>\n",
       "      <td>144.961351</td>\n",
       "      <td>24</td>\n",
       "      <td>880</td>\n",
       "    </tr>\n",
       "    <tr>\n",
       "      <th>13</th>\n",
       "      <td>3</td>\n",
       "      <td>3003</td>\n",
       "      <td>WEST_MELBOURNE</td>\n",
       "      <td>-37.810871</td>\n",
       "      <td>144.949592</td>\n",
       "      <td>21</td>\n",
       "      <td>6812</td>\n",
       "    </tr>\n",
       "    <tr>\n",
       "      <th>14</th>\n",
       "      <td>4</td>\n",
       "      <td>3016</td>\n",
       "      <td>WILLIAMSTOWNWILLIAMSTOWN_NORTH</td>\n",
       "      <td>-37.863743</td>\n",
       "      <td>144.888461</td>\n",
       "      <td>3</td>\n",
       "      <td>9665</td>\n",
       "    </tr>\n",
       "    <tr>\n",
       "      <th>15</th>\n",
       "      <td>3</td>\n",
       "      <td>3005</td>\n",
       "      <td>WORLD_TRADE_CENTRE</td>\n",
       "      <td>-37.824608</td>\n",
       "      <td>144.950858</td>\n",
       "      <td>33</td>\n",
       "      <td>671</td>\n",
       "    </tr>\n",
       "    <tr>\n",
       "      <th>16</th>\n",
       "      <td>3</td>\n",
       "      <td>3013</td>\n",
       "      <td>YARRAVILLEYARRAVILLE_WEST</td>\n",
       "      <td>-37.814183</td>\n",
       "      <td>144.888686</td>\n",
       "      <td>32</td>\n",
       "      <td>7049</td>\n",
       "    </tr>\n",
       "    <tr>\n",
       "      <th>17</th>\n",
       "      <td>4</td>\n",
       "      <td>3012</td>\n",
       "      <td>BROOKLYN  KINGSVILLEKINGSVILLE_WESTMAIDSTONE T...</td>\n",
       "      <td>-37.807135</td>\n",
       "      <td>144.861162</td>\n",
       "      <td>0</td>\n",
       "      <td>16537</td>\n",
       "    </tr>\n",
       "    <tr>\n",
       "      <th>18</th>\n",
       "      <td>1</td>\n",
       "      <td>3023</td>\n",
       "      <td>BURNSIDE  BURNSIDE_HEIGHTSCAIRNLEA  CAROLINE_S...</td>\n",
       "      <td>-37.775501</td>\n",
       "      <td>144.768500</td>\n",
       "      <td>0</td>\n",
       "      <td>31644</td>\n",
       "    </tr>\n",
       "    <tr>\n",
       "      <th>19</th>\n",
       "      <td>4</td>\n",
       "      <td>3024</td>\n",
       "      <td>FIELDSTONEMAMBOURIN MANOR_LAKESMOUNT_COTTRELLW...</td>\n",
       "      <td>-37.863403</td>\n",
       "      <td>144.580165</td>\n",
       "      <td>0</td>\n",
       "      <td>10275</td>\n",
       "    </tr>\n",
       "  </tbody>\n",
       "</table>\n",
       "</div>"
      ],
      "text/plain": [
       "    Cluster Labels  Postcode  \\\n",
       "0                1      3021   \n",
       "1                1      3020   \n",
       "2                4      3018   \n",
       "3                4      3022   \n",
       "4                4      3019   \n",
       "5                0      3008   \n",
       "6                4      3002   \n",
       "7                1      3011   \n",
       "8                2      3000   \n",
       "9                4      3004   \n",
       "10               4      3015   \n",
       "11               0      3006   \n",
       "12               3      3010   \n",
       "13               3      3003   \n",
       "14               4      3016   \n",
       "15               3      3005   \n",
       "16               3      3013   \n",
       "17               4      3012   \n",
       "18               1      3023   \n",
       "19               4      3024   \n",
       "\n",
       "                                               Suburb   Latitude   Longitude  \\\n",
       "0            ALBANVALE KEALBA    KINGS_PARKST_ALBANS  -37.743361  144.796693   \n",
       "1   ALBION    GLENGALA  SUNSHINE  SUNSHINE_NORTHSU... -37.777204  144.829945   \n",
       "2                                ALTONA    SEAHOLME   -37.861720  144.812736   \n",
       "3                            ARDEER    DEER_PARK_EAST -37.795937  144.793961   \n",
       "4                 BRAYBROOK BRAYBROOK_NORTHROBINSON   -37.784683  144.854014   \n",
       "5                                          DOCKLANDS  -37.814719  144.948039   \n",
       "6                                      EAST_MELBOURNE -37.818517  144.982207   \n",
       "7                     FOOTSCRAY SEDDON    SEDDON_WEST -37.807101  144.907953   \n",
       "8                                          MELBOURNE  -37.817403  144.956776   \n",
       "9                     MELBOURNE ST_KILDA_ROAD_CENTRAL -37.844246  144.970161   \n",
       "10               NEWPORT   SOUTH_KINGSVILLESPOTSWOOD  -37.838242  144.880556   \n",
       "11                              SOUTH_WHARFSOUTHBANK  -37.824272  144.959000   \n",
       "12                            UNIVERSITY_OF_MELBOURNE -37.796152  144.961351   \n",
       "13                                     WEST_MELBOURNE -37.810871  144.949592   \n",
       "14                     WILLIAMSTOWNWILLIAMSTOWN_NORTH -37.863743  144.888461   \n",
       "15                                 WORLD_TRADE_CENTRE -37.824608  144.950858   \n",
       "16                          YARRAVILLEYARRAVILLE_WEST -37.814183  144.888686   \n",
       "17  BROOKLYN  KINGSVILLEKINGSVILLE_WESTMAIDSTONE T... -37.807135  144.861162   \n",
       "18  BURNSIDE  BURNSIDE_HEIGHTSCAIRNLEA  CAROLINE_S... -37.775501  144.768500   \n",
       "19  FIELDSTONEMAMBOURIN MANOR_LAKESMOUNT_COTTRELLW... -37.863403  144.580165   \n",
       "\n",
       "    No Restaurants  Incidents Recorded  \n",
       "0               12               37309  \n",
       "1               12               47594  \n",
       "2                5                7096  \n",
       "3                1                3682  \n",
       "4                3                9498  \n",
       "5               61               15308  \n",
       "6               14                7572  \n",
       "7                4               25150  \n",
       "8               70              148273  \n",
       "9                4                7453  \n",
       "10               6                9118  \n",
       "11              45               24358  \n",
       "12              24                 880  \n",
       "13              21                6812  \n",
       "14               3                9665  \n",
       "15              33                 671  \n",
       "16              32                7049  \n",
       "17               0               16537  \n",
       "18               0               31644  \n",
       "19               0               10275  "
      ]
     },
     "execution_count": 223,
     "metadata": {},
     "output_type": "execute_result"
    }
   ],
   "source": [
    "# add clustering labels\n",
    "Melb_venues_crimes.insert(0, 'Cluster Labels', kmeans.labels_)\n",
    "Melb_venues_crimes.sort_index()"
   ]
  },
  {
   "cell_type": "markdown",
   "metadata": {},
   "source": [
    "### 4. Result and discussion"
   ]
  },
  {
   "cell_type": "markdown",
   "metadata": {},
   "source": [
    "###  Visualizing"
   ]
  },
  {
   "cell_type": "markdown",
   "metadata": {},
   "source": [
    "In previous sections, we analysed the data and clustered the suburbs according to their features using K-means method. Now, we should visualise the suburb clusters on a geographical map to find the best place for the restaurant. First, we need to obtain the latitude and longitude of Melbourne."
   ]
  },
  {
   "cell_type": "code",
   "execution_count": 91,
   "metadata": {},
   "outputs": [
    {
     "name": "stdout",
     "output_type": "stream",
     "text": [
      "Collecting package metadata (current_repodata.json): ...working... done\n",
      "Solving environment: ...working... \n",
      "Warning: 4 possible package resolutions (only showing differing packages):\n",
      "  - anaconda/win-64::ca-certificates-2020.1.1-0, anaconda/win-64::openssl-1.1.1d-he774522_4\n",
      "  - anaconda/win-64::ca-certificates-2020.1.1-0, defaults/win-64::openssl-1.1.1d-he774522_4\n",
      "  - anaconda/win-64::openssl-1.1.1d-he774522_4, defaults/win-64::ca-certificates-2020.1.1-0\n",
      "  - defaults/win-64::ca-certificates-2020.1.1-0, defaults/win-64::openssl-1.1.1d-he774522_4done\n",
      "\n",
      "# All requested packages already installed.\n",
      "\n",
      "The geograpical coordinate of Melbourne are -37.8142176, 144.9631608.\n"
     ]
    }
   ],
   "source": [
    "!conda install -c conda-forge geopy --yes\n",
    "from geopy.geocoders import Nominatim # convert an address into latitude and longitude values\n",
    "\n",
    "address = 'Melbourne'\n",
    "\n",
    "geolocator = Nominatim(user_agent=\"ny_explorer\")\n",
    "location = geolocator.geocode(address)\n",
    "latitude = location.latitude\n",
    "longitude = location.longitude\n",
    "print('The geograpical coordinate of Melbourne are {}, {}.'.format(latitude, longitude))"
   ]
  },
  {
   "cell_type": "markdown",
   "metadata": {},
   "source": [
    "----\n",
    "We use folium to show the suburb clusters and their labels. We first visualise the cluster using the number of restaurants of each suburb to plot circles on the map."
   ]
  },
  {
   "cell_type": "code",
   "execution_count": 224,
   "metadata": {},
   "outputs": [
    {
     "data": {
      "text/html": [
       "<div style=\"width:100%;\"><div style=\"position:relative;width:100%;height:0;padding-bottom:60%;\"><span style=\"color:#565656\">Make this Notebook Trusted to load map: File -> Trust Notebook</span><iframe src=\"about:blank\" style=\"position:absolute;width:100%;height:100%;left:0;top:0;border:none !important;\" data-html=PCFET0NUWVBFIGh0bWw+CjxoZWFkPiAgICAKICAgIDxtZXRhIGh0dHAtZXF1aXY9ImNvbnRlbnQtdHlwZSIgY29udGVudD0idGV4dC9odG1sOyBjaGFyc2V0PVVURi04IiAvPgogICAgPHNjcmlwdD5MX1BSRUZFUl9DQU5WQVMgPSBmYWxzZTsgTF9OT19UT1VDSCA9IGZhbHNlOyBMX0RJU0FCTEVfM0QgPSBmYWxzZTs8L3NjcmlwdD4KICAgIDxzY3JpcHQgc3JjPSJodHRwczovL2Nkbi5qc2RlbGl2ci5uZXQvbnBtL2xlYWZsZXRAMS4yLjAvZGlzdC9sZWFmbGV0LmpzIj48L3NjcmlwdD4KICAgIDxzY3JpcHQgc3JjPSJodHRwczovL2FqYXguZ29vZ2xlYXBpcy5jb20vYWpheC9saWJzL2pxdWVyeS8xLjExLjEvanF1ZXJ5Lm1pbi5qcyI+PC9zY3JpcHQ+CiAgICA8c2NyaXB0IHNyYz0iaHR0cHM6Ly9tYXhjZG4uYm9vdHN0cmFwY2RuLmNvbS9ib290c3RyYXAvMy4yLjAvanMvYm9vdHN0cmFwLm1pbi5qcyI+PC9zY3JpcHQ+CiAgICA8c2NyaXB0IHNyYz0iaHR0cHM6Ly9jZG5qcy5jbG91ZGZsYXJlLmNvbS9hamF4L2xpYnMvTGVhZmxldC5hd2Vzb21lLW1hcmtlcnMvMi4wLjIvbGVhZmxldC5hd2Vzb21lLW1hcmtlcnMuanMiPjwvc2NyaXB0PgogICAgPGxpbmsgcmVsPSJzdHlsZXNoZWV0IiBocmVmPSJodHRwczovL2Nkbi5qc2RlbGl2ci5uZXQvbnBtL2xlYWZsZXRAMS4yLjAvZGlzdC9sZWFmbGV0LmNzcyIvPgogICAgPGxpbmsgcmVsPSJzdHlsZXNoZWV0IiBocmVmPSJodHRwczovL21heGNkbi5ib290c3RyYXBjZG4uY29tL2Jvb3RzdHJhcC8zLjIuMC9jc3MvYm9vdHN0cmFwLm1pbi5jc3MiLz4KICAgIDxsaW5rIHJlbD0ic3R5bGVzaGVldCIgaHJlZj0iaHR0cHM6Ly9tYXhjZG4uYm9vdHN0cmFwY2RuLmNvbS9ib290c3RyYXAvMy4yLjAvY3NzL2Jvb3RzdHJhcC10aGVtZS5taW4uY3NzIi8+CiAgICA8bGluayByZWw9InN0eWxlc2hlZXQiIGhyZWY9Imh0dHBzOi8vbWF4Y2RuLmJvb3RzdHJhcGNkbi5jb20vZm9udC1hd2Vzb21lLzQuNi4zL2Nzcy9mb250LWF3ZXNvbWUubWluLmNzcyIvPgogICAgPGxpbmsgcmVsPSJzdHlsZXNoZWV0IiBocmVmPSJodHRwczovL2NkbmpzLmNsb3VkZmxhcmUuY29tL2FqYXgvbGlicy9MZWFmbGV0LmF3ZXNvbWUtbWFya2Vycy8yLjAuMi9sZWFmbGV0LmF3ZXNvbWUtbWFya2Vycy5jc3MiLz4KICAgIDxsaW5rIHJlbD0ic3R5bGVzaGVldCIgaHJlZj0iaHR0cHM6Ly9yYXdnaXQuY29tL3B5dGhvbi12aXN1YWxpemF0aW9uL2ZvbGl1bS9tYXN0ZXIvZm9saXVtL3RlbXBsYXRlcy9sZWFmbGV0LmF3ZXNvbWUucm90YXRlLmNzcyIvPgogICAgPHN0eWxlPmh0bWwsIGJvZHkge3dpZHRoOiAxMDAlO2hlaWdodDogMTAwJTttYXJnaW46IDA7cGFkZGluZzogMDt9PC9zdHlsZT4KICAgIDxzdHlsZT4jbWFwIHtwb3NpdGlvbjphYnNvbHV0ZTt0b3A6MDtib3R0b206MDtyaWdodDowO2xlZnQ6MDt9PC9zdHlsZT4KICAgIAogICAgICAgICAgICA8c3R5bGU+ICNtYXBfYWEyNjViZWNmYjk3NGRkOTllNzg4NjJjYWVhODQyZWEgewogICAgICAgICAgICAgICAgcG9zaXRpb24gOiByZWxhdGl2ZTsKICAgICAgICAgICAgICAgIHdpZHRoIDogMTAwLjAlOwogICAgICAgICAgICAgICAgaGVpZ2h0OiAxMDAuMCU7CiAgICAgICAgICAgICAgICBsZWZ0OiAwLjAlOwogICAgICAgICAgICAgICAgdG9wOiAwLjAlOwogICAgICAgICAgICAgICAgfQogICAgICAgICAgICA8L3N0eWxlPgogICAgICAgIAo8L2hlYWQ+Cjxib2R5PiAgICAKICAgIAogICAgICAgICAgICA8ZGl2IGNsYXNzPSJmb2xpdW0tbWFwIiBpZD0ibWFwX2FhMjY1YmVjZmI5NzRkZDk5ZTc4ODYyY2FlYTg0MmVhIiA+PC9kaXY+CiAgICAgICAgCjwvYm9keT4KPHNjcmlwdD4gICAgCiAgICAKCiAgICAgICAgICAgIAogICAgICAgICAgICAgICAgdmFyIGJvdW5kcyA9IG51bGw7CiAgICAgICAgICAgIAoKICAgICAgICAgICAgdmFyIG1hcF9hYTI2NWJlY2ZiOTc0ZGQ5OWU3ODg2MmNhZWE4NDJlYSA9IEwubWFwKAogICAgICAgICAgICAgICAgICAgICAgICAgICAgICAgICAgJ21hcF9hYTI2NWJlY2ZiOTc0ZGQ5OWU3ODg2MmNhZWE4NDJlYScsCiAgICAgICAgICAgICAgICAgICAgICAgICAgICAgICAgICB7Y2VudGVyOiBbLTM3LjgxNDIxNzYsMTQ0Ljk2MzE2MDhdLAogICAgICAgICAgICAgICAgICAgICAgICAgICAgICAgICAgem9vbTogMTEsCiAgICAgICAgICAgICAgICAgICAgICAgICAgICAgICAgICBtYXhCb3VuZHM6IGJvdW5kcywKICAgICAgICAgICAgICAgICAgICAgICAgICAgICAgICAgIGxheWVyczogW10sCiAgICAgICAgICAgICAgICAgICAgICAgICAgICAgICAgICB3b3JsZENvcHlKdW1wOiBmYWxzZSwKICAgICAgICAgICAgICAgICAgICAgICAgICAgICAgICAgIGNyczogTC5DUlMuRVBTRzM4NTcKICAgICAgICAgICAgICAgICAgICAgICAgICAgICAgICAgfSk7CiAgICAgICAgICAgIAogICAgICAgIAogICAgCiAgICAgICAgICAgIHZhciB0aWxlX2xheWVyXzk0YTAzOGQyODE5MTQ5NGE4NmNhNzE5NDhiYjE4ZDNkID0gTC50aWxlTGF5ZXIoCiAgICAgICAgICAgICAgICAnaHR0cHM6Ly97c30udGlsZS5vcGVuc3RyZWV0bWFwLm9yZy97en0ve3h9L3t5fS5wbmcnLAogICAgICAgICAgICAgICAgewogICJhdHRyaWJ1dGlvbiI6IG51bGwsCiAgImRldGVjdFJldGluYSI6IGZhbHNlLAogICJtYXhab29tIjogMTgsCiAgIm1pblpvb20iOiAxLAogICJub1dyYXAiOiBmYWxzZSwKICAic3ViZG9tYWlucyI6ICJhYmMiCn0KICAgICAgICAgICAgICAgICkuYWRkVG8obWFwX2FhMjY1YmVjZmI5NzRkZDk5ZTc4ODYyY2FlYTg0MmVhKTsKICAgICAgICAKICAgIAogICAgICAgICAgICB2YXIgY2lyY2xlX21hcmtlcl85M2RkNmZhN2Q0YTU0MGNhOWQ2YjlmYzJlMTdjM2ExMSA9IEwuY2lyY2xlTWFya2VyKAogICAgICAgICAgICAgICAgWy0zNy44NjM0MDM0OCwxNDQuNTgwMTY0ODYwMDAwMDJdLAogICAgICAgICAgICAgICAgewogICJidWJibGluZ01vdXNlRXZlbnRzIjogdHJ1ZSwKICAiY29sb3IiOiAiYmxhY2siLAogICJkYXNoQXJyYXkiOiBudWxsLAogICJkYXNoT2Zmc2V0IjogbnVsbCwKICAiZmlsbCI6IHRydWUsCiAgImZpbGxDb2xvciI6ICIjZmZmZjAwIiwKICAiZmlsbE9wYWNpdHkiOiAwLjcsCiAgImZpbGxSdWxlIjogImV2ZW5vZGQiLAogICJsaW5lQ2FwIjogInJvdW5kIiwKICAibGluZUpvaW4iOiAicm91bmQiLAogICJvcGFjaXR5IjogMS4wLAogICJyYWRpdXMiOiA0LAogICJzdHJva2UiOiB0cnVlLAogICJ3ZWlnaHQiOiAyCn0KICAgICAgICAgICAgICAgICkuYWRkVG8obWFwX2FhMjY1YmVjZmI5NzRkZDk5ZTc4ODYyY2FlYTg0MmVhKTsKICAgICAgICAgICAgCiAgICAKICAgICAgICAgICAgdmFyIHBvcHVwX2RhZmU4N2U1YWQyOTQ0ZTQ4OTAxNTc0MTgxMzczMzRiID0gTC5wb3B1cCh7bWF4V2lkdGg6ICczMDAnfSk7CgogICAgICAgICAgICAKICAgICAgICAgICAgICAgIHZhciBodG1sXzA3NDQ3ZWNiZGFjZDQ0OTJiMWUyNjQyY2E5YzQxZWY1ID0gJCgnPGRpdiBpZD0iaHRtbF8wNzQ0N2VjYmRhY2Q0NDkyYjFlMjY0MmNhOWM0MWVmNSIgc3R5bGU9IndpZHRoOiAxMDAuMCU7IGhlaWdodDogMTAwLjAlOyI+UG9zdGNvZGU6MzAyNCwgTm8gUmVzdGF1cmFudHM6IDAgQ2x1c3RlciA0PC9kaXY+JylbMF07CiAgICAgICAgICAgICAgICBwb3B1cF9kYWZlODdlNWFkMjk0NGU0ODkwMTU3NDE4MTM3MzM0Yi5zZXRDb250ZW50KGh0bWxfMDc0NDdlY2JkYWNkNDQ5MmIxZTI2NDJjYTljNDFlZjUpOwogICAgICAgICAgICAKCiAgICAgICAgICAgIGNpcmNsZV9tYXJrZXJfOTNkZDZmYTdkNGE1NDBjYTlkNmI5ZmMyZTE3YzNhMTEuYmluZFBvcHVwKHBvcHVwX2RhZmU4N2U1YWQyOTQ0ZTQ4OTAxNTc0MTgxMzczMzRiKTsKCiAgICAgICAgICAgIAogICAgICAgIAogICAgCiAgICAgICAgICAgIHZhciBjaXJjbGVfbWFya2VyXzIyOWY3YjMzYTQxNDQ1M2ViYTI0MDdiMzQwMTA5YTY5ID0gTC5jaXJjbGVNYXJrZXIoCiAgICAgICAgICAgICAgICBbLTM3LjgwNzEzNTAwMDAwMDAxLDE0NC44NjExNjJdLAogICAgICAgICAgICAgICAgewogICJidWJibGluZ01vdXNlRXZlbnRzIjogdHJ1ZSwKICAiY29sb3IiOiAiYmxhY2siLAogICJkYXNoQXJyYXkiOiBudWxsLAogICJkYXNoT2Zmc2V0IjogbnVsbCwKICAiZmlsbCI6IHRydWUsCiAgImZpbGxDb2xvciI6ICIjZmZmZjAwIiwKICAiZmlsbE9wYWNpdHkiOiAwLjcsCiAgImZpbGxSdWxlIjogImV2ZW5vZGQiLAogICJsaW5lQ2FwIjogInJvdW5kIiwKICAibGluZUpvaW4iOiAicm91bmQiLAogICJvcGFjaXR5IjogMS4wLAogICJyYWRpdXMiOiA0LAogICJzdHJva2UiOiB0cnVlLAogICJ3ZWlnaHQiOiAyCn0KICAgICAgICAgICAgICAgICkuYWRkVG8obWFwX2FhMjY1YmVjZmI5NzRkZDk5ZTc4ODYyY2FlYTg0MmVhKTsKICAgICAgICAgICAgCiAgICAKICAgICAgICAgICAgdmFyIHBvcHVwXzFlZGI3OTQyNGJmYjRhM2ZhYzFiMGE3ZjlmNzMyNzYyID0gTC5wb3B1cCh7bWF4V2lkdGg6ICczMDAnfSk7CgogICAgICAgICAgICAKICAgICAgICAgICAgICAgIHZhciBodG1sXzA0NWQzYjViOWI1ZjQ5ZTQ5YTljZjY3NjA4YjIwMGZiID0gJCgnPGRpdiBpZD0iaHRtbF8wNDVkM2I1YjliNWY0OWU0OWE5Y2Y2NzYwOGIyMDBmYiIgc3R5bGU9IndpZHRoOiAxMDAuMCU7IGhlaWdodDogMTAwLjAlOyI+UG9zdGNvZGU6MzAxMiwgTm8gUmVzdGF1cmFudHM6IDAgQ2x1c3RlciA0PC9kaXY+JylbMF07CiAgICAgICAgICAgICAgICBwb3B1cF8xZWRiNzk0MjRiZmI0YTNmYWMxYjBhN2Y5ZjczMjc2Mi5zZXRDb250ZW50KGh0bWxfMDQ1ZDNiNWI5YjVmNDllNDlhOWNmNjc2MDhiMjAwZmIpOwogICAgICAgICAgICAKCiAgICAgICAgICAgIGNpcmNsZV9tYXJrZXJfMjI5ZjdiMzNhNDE0NDUzZWJhMjQwN2IzNDAxMDlhNjkuYmluZFBvcHVwKHBvcHVwXzFlZGI3OTQyNGJmYjRhM2ZhYzFiMGE3ZjlmNzMyNzYyKTsKCiAgICAgICAgICAgIAogICAgICAgIAogICAgCiAgICAgICAgICAgIHZhciBjaXJjbGVfbWFya2VyXzdhODI3Zjk1YzJiZjQzZWRiNjQ2NjcwODQyOWFlODg2ID0gTC5jaXJjbGVNYXJrZXIoCiAgICAgICAgICAgICAgICBbLTM3Ljc3NTUwMTA3NDI4NTcxLDE0NC43Njg1MDA0Mjg1NzE0Nl0sCiAgICAgICAgICAgICAgICB7CiAgImJ1YmJsaW5nTW91c2VFdmVudHMiOiB0cnVlLAogICJjb2xvciI6ICJibGFjayIsCiAgImRhc2hBcnJheSI6IG51bGwsCiAgImRhc2hPZmZzZXQiOiBudWxsLAogICJmaWxsIjogdHJ1ZSwKICAiZmlsbENvbG9yIjogIiNmZjAwMDAiLAogICJmaWxsT3BhY2l0eSI6IDAuNywKICAiZmlsbFJ1bGUiOiAiZXZlbm9kZCIsCiAgImxpbmVDYXAiOiAicm91bmQiLAogICJsaW5lSm9pbiI6ICJyb3VuZCIsCiAgIm9wYWNpdHkiOiAxLjAsCiAgInJhZGl1cyI6IDQsCiAgInN0cm9rZSI6IHRydWUsCiAgIndlaWdodCI6IDIKfQogICAgICAgICAgICAgICAgKS5hZGRUbyhtYXBfYWEyNjViZWNmYjk3NGRkOTllNzg4NjJjYWVhODQyZWEpOwogICAgICAgICAgICAKICAgIAogICAgICAgICAgICB2YXIgcG9wdXBfZGNhY2ZjZTAxYWY1NDQ1Y2FmYWU2ZjA1OTY3ZWRmYjYgPSBMLnBvcHVwKHttYXhXaWR0aDogJzMwMCd9KTsKCiAgICAgICAgICAgIAogICAgICAgICAgICAgICAgdmFyIGh0bWxfNGMwN2YzZjg0ZDY1NDdjZWJjNTJmMGQxOGJkZmI1MjkgPSAkKCc8ZGl2IGlkPSJodG1sXzRjMDdmM2Y4NGQ2NTQ3Y2ViYzUyZjBkMThiZGZiNTI5IiBzdHlsZT0id2lkdGg6IDEwMC4wJTsgaGVpZ2h0OiAxMDAuMCU7Ij5Qb3N0Y29kZTozMDIzLCBObyBSZXN0YXVyYW50czogMCBDbHVzdGVyIDE8L2Rpdj4nKVswXTsKICAgICAgICAgICAgICAgIHBvcHVwX2RjYWNmY2UwMWFmNTQ0NWNhZmFlNmYwNTk2N2VkZmI2LnNldENvbnRlbnQoaHRtbF80YzA3ZjNmODRkNjU0N2NlYmM1MmYwZDE4YmRmYjUyOSk7CiAgICAgICAgICAgIAoKICAgICAgICAgICAgY2lyY2xlX21hcmtlcl83YTgyN2Y5NWMyYmY0M2VkYjY0NjY3MDg0MjlhZTg4Ni5iaW5kUG9wdXAocG9wdXBfZGNhY2ZjZTAxYWY1NDQ1Y2FmYWU2ZjA1OTY3ZWRmYjYpOwoKICAgICAgICAgICAgCiAgICAgICAgCiAgICAKICAgICAgICAgICAgdmFyIGNpcmNsZV9tYXJrZXJfZDU2MzRlMWFjZTYyNDQzNmEzMzlhODk4MDUzMTMyYjkgPSBMLmNpcmNsZU1hcmtlcigKICAgICAgICAgICAgICAgIFstMzcuNzk1OTM3LDE0NC43OTM5NjFdLAogICAgICAgICAgICAgICAgewogICJidWJibGluZ01vdXNlRXZlbnRzIjogdHJ1ZSwKICAiY29sb3IiOiAiYmxhY2siLAogICJkYXNoQXJyYXkiOiBudWxsLAogICJkYXNoT2Zmc2V0IjogbnVsbCwKICAiZmlsbCI6IHRydWUsCiAgImZpbGxDb2xvciI6ICIjZmZmZjAwIiwKICAiZmlsbE9wYWNpdHkiOiAwLjcsCiAgImZpbGxSdWxlIjogImV2ZW5vZGQiLAogICJsaW5lQ2FwIjogInJvdW5kIiwKICAibGluZUpvaW4iOiAicm91bmQiLAogICJvcGFjaXR5IjogMS4wLAogICJyYWRpdXMiOiA0LAogICJzdHJva2UiOiB0cnVlLAogICJ3ZWlnaHQiOiAyCn0KICAgICAgICAgICAgICAgICkuYWRkVG8obWFwX2FhMjY1YmVjZmI5NzRkZDk5ZTc4ODYyY2FlYTg0MmVhKTsKICAgICAgICAgICAgCiAgICAKICAgICAgICAgICAgdmFyIHBvcHVwXzg3NTEzNWVlMDgzMDQ2MDBhZWNjZmI2YWQ2ZDE1NGFjID0gTC5wb3B1cCh7bWF4V2lkdGg6ICczMDAnfSk7CgogICAgICAgICAgICAKICAgICAgICAgICAgICAgIHZhciBodG1sXzIwZGZkYzQ1NzU0OTRlMDc5ZjhhM2I1MjFiMDQwOTEyID0gJCgnPGRpdiBpZD0iaHRtbF8yMGRmZGM0NTc1NDk0ZTA3OWY4YTNiNTIxYjA0MDkxMiIgc3R5bGU9IndpZHRoOiAxMDAuMCU7IGhlaWdodDogMTAwLjAlOyI+UG9zdGNvZGU6MzAyMiwgTm8gUmVzdGF1cmFudHM6IDEgQ2x1c3RlciA0PC9kaXY+JylbMF07CiAgICAgICAgICAgICAgICBwb3B1cF84NzUxMzVlZTA4MzA0NjAwYWVjY2ZiNmFkNmQxNTRhYy5zZXRDb250ZW50KGh0bWxfMjBkZmRjNDU3NTQ5NGUwNzlmOGEzYjUyMWIwNDA5MTIpOwogICAgICAgICAgICAKCiAgICAgICAgICAgIGNpcmNsZV9tYXJrZXJfZDU2MzRlMWFjZTYyNDQzNmEzMzlhODk4MDUzMTMyYjkuYmluZFBvcHVwKHBvcHVwXzg3NTEzNWVlMDgzMDQ2MDBhZWNjZmI2YWQ2ZDE1NGFjKTsKCiAgICAgICAgICAgIAogICAgICAgIAogICAgCiAgICAgICAgICAgIHZhciBjaXJjbGVfbWFya2VyXzlhNGYwNDJhYTY2NjRlYzk5MWUwYWEyZGY2MzQ4NTg3ID0gTC5jaXJjbGVNYXJrZXIoCiAgICAgICAgICAgICAgICBbLTM3Ljg2Mzc0MywxNDQuODg4NDYxXSwKICAgICAgICAgICAgICAgIHsKICAiYnViYmxpbmdNb3VzZUV2ZW50cyI6IHRydWUsCiAgImNvbG9yIjogImJsYWNrIiwKICAiZGFzaEFycmF5IjogbnVsbCwKICAiZGFzaE9mZnNldCI6IG51bGwsCiAgImZpbGwiOiB0cnVlLAogICJmaWxsQ29sb3IiOiAiI2ZmZmYwMCIsCiAgImZpbGxPcGFjaXR5IjogMC43LAogICJmaWxsUnVsZSI6ICJldmVub2RkIiwKICAibGluZUNhcCI6ICJyb3VuZCIsCiAgImxpbmVKb2luIjogInJvdW5kIiwKICAib3BhY2l0eSI6IDEuMCwKICAicmFkaXVzIjogNCwKICAic3Ryb2tlIjogdHJ1ZSwKICAid2VpZ2h0IjogMgp9CiAgICAgICAgICAgICAgICApLmFkZFRvKG1hcF9hYTI2NWJlY2ZiOTc0ZGQ5OWU3ODg2MmNhZWE4NDJlYSk7CiAgICAgICAgICAgIAogICAgCiAgICAgICAgICAgIHZhciBwb3B1cF9lYzVlYTlhZmE5MDQ0ZmM5YWIyN2EwODk5YzIxZWMzMyA9IEwucG9wdXAoe21heFdpZHRoOiAnMzAwJ30pOwoKICAgICAgICAgICAgCiAgICAgICAgICAgICAgICB2YXIgaHRtbF82MjU1MTMzZDgzNTY0MGRiYjY1MzA2ODdjODQ3MjFkMiA9ICQoJzxkaXYgaWQ9Imh0bWxfNjI1NTEzM2Q4MzU2NDBkYmI2NTMwNjg3Yzg0NzIxZDIiIHN0eWxlPSJ3aWR0aDogMTAwLjAlOyBoZWlnaHQ6IDEwMC4wJTsiPlBvc3Rjb2RlOjMwMTYsIE5vIFJlc3RhdXJhbnRzOiAzIENsdXN0ZXIgNDwvZGl2PicpWzBdOwogICAgICAgICAgICAgICAgcG9wdXBfZWM1ZWE5YWZhOTA0NGZjOWFiMjdhMDg5OWMyMWVjMzMuc2V0Q29udGVudChodG1sXzYyNTUxMzNkODM1NjQwZGJiNjUzMDY4N2M4NDcyMWQyKTsKICAgICAgICAgICAgCgogICAgICAgICAgICBjaXJjbGVfbWFya2VyXzlhNGYwNDJhYTY2NjRlYzk5MWUwYWEyZGY2MzQ4NTg3LmJpbmRQb3B1cChwb3B1cF9lYzVlYTlhZmE5MDQ0ZmM5YWIyN2EwODk5YzIxZWMzMyk7CgogICAgICAgICAgICAKICAgICAgICAKICAgIAogICAgICAgICAgICB2YXIgY2lyY2xlX21hcmtlcl9jOTNkN2U1ODIzYzM0NTU4YTk2MTM4ODRmMTA2OWI5MSA9IEwuY2lyY2xlTWFya2VyKAogICAgICAgICAgICAgICAgWy0zNy43ODQ2ODMsMTQ0Ljg1NDAxNF0sCiAgICAgICAgICAgICAgICB7CiAgImJ1YmJsaW5nTW91c2VFdmVudHMiOiB0cnVlLAogICJjb2xvciI6ICJibGFjayIsCiAgImRhc2hBcnJheSI6IG51bGwsCiAgImRhc2hPZmZzZXQiOiBudWxsLAogICJmaWxsIjogdHJ1ZSwKICAiZmlsbENvbG9yIjogIiNmZmZmMDAiLAogICJmaWxsT3BhY2l0eSI6IDAuNywKICAiZmlsbFJ1bGUiOiAiZXZlbm9kZCIsCiAgImxpbmVDYXAiOiAicm91bmQiLAogICJsaW5lSm9pbiI6ICJyb3VuZCIsCiAgIm9wYWNpdHkiOiAxLjAsCiAgInJhZGl1cyI6IDQsCiAgInN0cm9rZSI6IHRydWUsCiAgIndlaWdodCI6IDIKfQogICAgICAgICAgICAgICAgKS5hZGRUbyhtYXBfYWEyNjViZWNmYjk3NGRkOTllNzg4NjJjYWVhODQyZWEpOwogICAgICAgICAgICAKICAgIAogICAgICAgICAgICB2YXIgcG9wdXBfZDVlMTViOGZjOWVmNDVhY2E5YTU4YzU2OGU0MDhjNjkgPSBMLnBvcHVwKHttYXhXaWR0aDogJzMwMCd9KTsKCiAgICAgICAgICAgIAogICAgICAgICAgICAgICAgdmFyIGh0bWxfNGY3YTU2OTUxMzZhNGRmMGE2NWE3MzYwMjhmODRhNDggPSAkKCc8ZGl2IGlkPSJodG1sXzRmN2E1Njk1MTM2YTRkZjBhNjVhNzM2MDI4Zjg0YTQ4IiBzdHlsZT0id2lkdGg6IDEwMC4wJTsgaGVpZ2h0OiAxMDAuMCU7Ij5Qb3N0Y29kZTozMDE5LCBObyBSZXN0YXVyYW50czogMyBDbHVzdGVyIDQ8L2Rpdj4nKVswXTsKICAgICAgICAgICAgICAgIHBvcHVwX2Q1ZTE1YjhmYzllZjQ1YWNhOWE1OGM1NjhlNDA4YzY5LnNldENvbnRlbnQoaHRtbF80ZjdhNTY5NTEzNmE0ZGYwYTY1YTczNjAyOGY4NGE0OCk7CiAgICAgICAgICAgIAoKICAgICAgICAgICAgY2lyY2xlX21hcmtlcl9jOTNkN2U1ODIzYzM0NTU4YTk2MTM4ODRmMTA2OWI5MS5iaW5kUG9wdXAocG9wdXBfZDVlMTViOGZjOWVmNDVhY2E5YTU4YzU2OGU0MDhjNjkpOwoKICAgICAgICAgICAgCiAgICAgICAgCiAgICAKICAgICAgICAgICAgdmFyIGNpcmNsZV9tYXJrZXJfYTIyYmY1ZDIwMjEyNDA5YzllZTg1Nzk0M2UxMDcyZDkgPSBMLmNpcmNsZU1hcmtlcigKICAgICAgICAgICAgICAgIFstMzcuODA3MTAxLDE0NC45MDc5NTNdLAogICAgICAgICAgICAgICAgewogICJidWJibGluZ01vdXNlRXZlbnRzIjogdHJ1ZSwKICAiY29sb3IiOiAiYmxhY2siLAogICJkYXNoQXJyYXkiOiBudWxsLAogICJkYXNoT2Zmc2V0IjogbnVsbCwKICAiZmlsbCI6IHRydWUsCiAgImZpbGxDb2xvciI6ICIjZmYwMDAwIiwKICAiZmlsbE9wYWNpdHkiOiAwLjcsCiAgImZpbGxSdWxlIjogImV2ZW5vZGQiLAogICJsaW5lQ2FwIjogInJvdW5kIiwKICAibGluZUpvaW4iOiAicm91bmQiLAogICJvcGFjaXR5IjogMS4wLAogICJyYWRpdXMiOiA0LAogICJzdHJva2UiOiB0cnVlLAogICJ3ZWlnaHQiOiAyCn0KICAgICAgICAgICAgICAgICkuYWRkVG8obWFwX2FhMjY1YmVjZmI5NzRkZDk5ZTc4ODYyY2FlYTg0MmVhKTsKICAgICAgICAgICAgCiAgICAKICAgICAgICAgICAgdmFyIHBvcHVwX2RlM2UxZDE2YzhjODQxZjc5MzE4NjVmN2RkYWZjNzczID0gTC5wb3B1cCh7bWF4V2lkdGg6ICczMDAnfSk7CgogICAgICAgICAgICAKICAgICAgICAgICAgICAgIHZhciBodG1sX2Q1NTQ3YmVhMjJhYjRkZjg4MzAxMjdkNWQzYmZkNmQ2ID0gJCgnPGRpdiBpZD0iaHRtbF9kNTU0N2JlYTIyYWI0ZGY4ODMwMTI3ZDVkM2JmZDZkNiIgc3R5bGU9IndpZHRoOiAxMDAuMCU7IGhlaWdodDogMTAwLjAlOyI+UG9zdGNvZGU6MzAxMSwgTm8gUmVzdGF1cmFudHM6IDQgQ2x1c3RlciAxPC9kaXY+JylbMF07CiAgICAgICAgICAgICAgICBwb3B1cF9kZTNlMWQxNmM4Yzg0MWY3OTMxODY1ZjdkZGFmYzc3My5zZXRDb250ZW50KGh0bWxfZDU1NDdiZWEyMmFiNGRmODgzMDEyN2Q1ZDNiZmQ2ZDYpOwogICAgICAgICAgICAKCiAgICAgICAgICAgIGNpcmNsZV9tYXJrZXJfYTIyYmY1ZDIwMjEyNDA5YzllZTg1Nzk0M2UxMDcyZDkuYmluZFBvcHVwKHBvcHVwX2RlM2UxZDE2YzhjODQxZjc5MzE4NjVmN2RkYWZjNzczKTsKCiAgICAgICAgICAgIAogICAgICAgIAogICAgCiAgICAgICAgICAgIHZhciBjaXJjbGVfbWFya2VyXzYwNTZhMWFlYjdmMzRjYjE5ZDkwZTA3OGNlMzdhY2FkID0gTC5jaXJjbGVNYXJrZXIoCiAgICAgICAgICAgICAgICBbLTM3Ljg0NDI0NiwxNDQuOTcwMTYxXSwKICAgICAgICAgICAgICAgIHsKICAiYnViYmxpbmdNb3VzZUV2ZW50cyI6IHRydWUsCiAgImNvbG9yIjogImJsYWNrIiwKICAiZGFzaEFycmF5IjogbnVsbCwKICAiZGFzaE9mZnNldCI6IG51bGwsCiAgImZpbGwiOiB0cnVlLAogICJmaWxsQ29sb3IiOiAiI2ZmZmYwMCIsCiAgImZpbGxPcGFjaXR5IjogMC43LAogICJmaWxsUnVsZSI6ICJldmVub2RkIiwKICAibGluZUNhcCI6ICJyb3VuZCIsCiAgImxpbmVKb2luIjogInJvdW5kIiwKICAib3BhY2l0eSI6IDEuMCwKICAicmFkaXVzIjogNCwKICAic3Ryb2tlIjogdHJ1ZSwKICAid2VpZ2h0IjogMgp9CiAgICAgICAgICAgICAgICApLmFkZFRvKG1hcF9hYTI2NWJlY2ZiOTc0ZGQ5OWU3ODg2MmNhZWE4NDJlYSk7CiAgICAgICAgICAgIAogICAgCiAgICAgICAgICAgIHZhciBwb3B1cF85ZDJmYzM4OTc3MDM0ODkxYTUzYzE4MzZmYTA0ZDI0OSA9IEwucG9wdXAoe21heFdpZHRoOiAnMzAwJ30pOwoKICAgICAgICAgICAgCiAgICAgICAgICAgICAgICB2YXIgaHRtbF85MjI0NzcwODNmNTU0MTI1OTBjOThkODQ0YjIyODBiZCA9ICQoJzxkaXYgaWQ9Imh0bWxfOTIyNDc3MDgzZjU1NDEyNTkwYzk4ZDg0NGIyMjgwYmQiIHN0eWxlPSJ3aWR0aDogMTAwLjAlOyBoZWlnaHQ6IDEwMC4wJTsiPlBvc3Rjb2RlOjMwMDQsIE5vIFJlc3RhdXJhbnRzOiA0IENsdXN0ZXIgNDwvZGl2PicpWzBdOwogICAgICAgICAgICAgICAgcG9wdXBfOWQyZmMzODk3NzAzNDg5MWE1M2MxODM2ZmEwNGQyNDkuc2V0Q29udGVudChodG1sXzkyMjQ3NzA4M2Y1NTQxMjU5MGM5OGQ4NDRiMjI4MGJkKTsKICAgICAgICAgICAgCgogICAgICAgICAgICBjaXJjbGVfbWFya2VyXzYwNTZhMWFlYjdmMzRjYjE5ZDkwZTA3OGNlMzdhY2FkLmJpbmRQb3B1cChwb3B1cF85ZDJmYzM4OTc3MDM0ODkxYTUzYzE4MzZmYTA0ZDI0OSk7CgogICAgICAgICAgICAKICAgICAgICAKICAgIAogICAgICAgICAgICB2YXIgY2lyY2xlX21hcmtlcl9mYzViNmFjZGM4ZjE0ZTQ3OWI3MTUwNDg5OTJkOTgwNiA9IEwuY2lyY2xlTWFya2VyKAogICAgICAgICAgICAgICAgWy0zNy44NjE3MiwxNDQuODEyNzM2XSwKICAgICAgICAgICAgICAgIHsKICAiYnViYmxpbmdNb3VzZUV2ZW50cyI6IHRydWUsCiAgImNvbG9yIjogImJsYWNrIiwKICAiZGFzaEFycmF5IjogbnVsbCwKICAiZGFzaE9mZnNldCI6IG51bGwsCiAgImZpbGwiOiB0cnVlLAogICJmaWxsQ29sb3IiOiAiI2ZmZmYwMCIsCiAgImZpbGxPcGFjaXR5IjogMC43LAogICJmaWxsUnVsZSI6ICJldmVub2RkIiwKICAibGluZUNhcCI6ICJyb3VuZCIsCiAgImxpbmVKb2luIjogInJvdW5kIiwKICAib3BhY2l0eSI6IDEuMCwKICAicmFkaXVzIjogNCwKICAic3Ryb2tlIjogdHJ1ZSwKICAid2VpZ2h0IjogMgp9CiAgICAgICAgICAgICAgICApLmFkZFRvKG1hcF9hYTI2NWJlY2ZiOTc0ZGQ5OWU3ODg2MmNhZWE4NDJlYSk7CiAgICAgICAgICAgIAogICAgCiAgICAgICAgICAgIHZhciBwb3B1cF85OTkwOGY2Y2YwNzY0YTRkOTE5N2JiMzgxOWQ5NmIxYiA9IEwucG9wdXAoe21heFdpZHRoOiAnMzAwJ30pOwoKICAgICAgICAgICAgCiAgICAgICAgICAgICAgICB2YXIgaHRtbF82NzNhMTlhNWM3NTk0ZjRjOTQ4ZGFjNmM2MTA3ZDRkMSA9ICQoJzxkaXYgaWQ9Imh0bWxfNjczYTE5YTVjNzU5NGY0Yzk0OGRhYzZjNjEwN2Q0ZDEiIHN0eWxlPSJ3aWR0aDogMTAwLjAlOyBoZWlnaHQ6IDEwMC4wJTsiPlBvc3Rjb2RlOjMwMTgsIE5vIFJlc3RhdXJhbnRzOiA1IENsdXN0ZXIgNDwvZGl2PicpWzBdOwogICAgICAgICAgICAgICAgcG9wdXBfOTk5MDhmNmNmMDc2NGE0ZDkxOTdiYjM4MTlkOTZiMWIuc2V0Q29udGVudChodG1sXzY3M2ExOWE1Yzc1OTRmNGM5NDhkYWM2YzYxMDdkNGQxKTsKICAgICAgICAgICAgCgogICAgICAgICAgICBjaXJjbGVfbWFya2VyX2ZjNWI2YWNkYzhmMTRlNDc5YjcxNTA0ODk5MmQ5ODA2LmJpbmRQb3B1cChwb3B1cF85OTkwOGY2Y2YwNzY0YTRkOTE5N2JiMzgxOWQ5NmIxYik7CgogICAgICAgICAgICAKICAgICAgICAKICAgIAogICAgICAgICAgICB2YXIgY2lyY2xlX21hcmtlcl9lMjhjMTA2ODZjOTk0MzY4YjM0YzBhNTQyMzhhZWYyMSA9IEwuY2lyY2xlTWFya2VyKAogICAgICAgICAgICAgICAgWy0zNy44MzgyNDIsMTQ0Ljg4MDU1Nl0sCiAgICAgICAgICAgICAgICB7CiAgImJ1YmJsaW5nTW91c2VFdmVudHMiOiB0cnVlLAogICJjb2xvciI6ICJibGFjayIsCiAgImRhc2hBcnJheSI6IG51bGwsCiAgImRhc2hPZmZzZXQiOiBudWxsLAogICJmaWxsIjogdHJ1ZSwKICAiZmlsbENvbG9yIjogIiNmZmZmMDAiLAogICJmaWxsT3BhY2l0eSI6IDAuNywKICAiZmlsbFJ1bGUiOiAiZXZlbm9kZCIsCiAgImxpbmVDYXAiOiAicm91bmQiLAogICJsaW5lSm9pbiI6ICJyb3VuZCIsCiAgIm9wYWNpdHkiOiAxLjAsCiAgInJhZGl1cyI6IDQsCiAgInN0cm9rZSI6IHRydWUsCiAgIndlaWdodCI6IDIKfQogICAgICAgICAgICAgICAgKS5hZGRUbyhtYXBfYWEyNjViZWNmYjk3NGRkOTllNzg4NjJjYWVhODQyZWEpOwogICAgICAgICAgICAKICAgIAogICAgICAgICAgICB2YXIgcG9wdXBfZmVmYmI4OTJiOWRhNDNlNWIwNzFmYzdjNDgzZjUzYjEgPSBMLnBvcHVwKHttYXhXaWR0aDogJzMwMCd9KTsKCiAgICAgICAgICAgIAogICAgICAgICAgICAgICAgdmFyIGh0bWxfMzg3ZjFlNDE3YzcwNDM0ZmIzYWI5NGM5MmFiYzc2ZjAgPSAkKCc8ZGl2IGlkPSJodG1sXzM4N2YxZTQxN2M3MDQzNGZiM2FiOTRjOTJhYmM3NmYwIiBzdHlsZT0id2lkdGg6IDEwMC4wJTsgaGVpZ2h0OiAxMDAuMCU7Ij5Qb3N0Y29kZTozMDE1LCBObyBSZXN0YXVyYW50czogNiBDbHVzdGVyIDQ8L2Rpdj4nKVswXTsKICAgICAgICAgICAgICAgIHBvcHVwX2ZlZmJiODkyYjlkYTQzZTViMDcxZmM3YzQ4M2Y1M2IxLnNldENvbnRlbnQoaHRtbF8zODdmMWU0MTdjNzA0MzRmYjNhYjk0YzkyYWJjNzZmMCk7CiAgICAgICAgICAgIAoKICAgICAgICAgICAgY2lyY2xlX21hcmtlcl9lMjhjMTA2ODZjOTk0MzY4YjM0YzBhNTQyMzhhZWYyMS5iaW5kUG9wdXAocG9wdXBfZmVmYmI4OTJiOWRhNDNlNWIwNzFmYzdjNDgzZjUzYjEpOwoKICAgICAgICAgICAgCiAgICAgICAgCiAgICAKICAgICAgICAgICAgdmFyIGNpcmNsZV9tYXJrZXJfYjMyZTVkYTg1NzUwNDJhNzk2MGFkMDJiM2QxYjRmOGMgPSBMLmNpcmNsZU1hcmtlcigKICAgICAgICAgICAgICAgIFstMzcuNzc3MjA0LDE0NC44Mjk5NDVdLAogICAgICAgICAgICAgICAgewogICJidWJibGluZ01vdXNlRXZlbnRzIjogdHJ1ZSwKICAiY29sb3IiOiAiYmxhY2siLAogICJkYXNoQXJyYXkiOiBudWxsLAogICJkYXNoT2Zmc2V0IjogbnVsbCwKICAiZmlsbCI6IHRydWUsCiAgImZpbGxDb2xvciI6ICIjZmYwMDAwIiwKICAiZmlsbE9wYWNpdHkiOiAwLjcsCiAgImZpbGxSdWxlIjogImV2ZW5vZGQiLAogICJsaW5lQ2FwIjogInJvdW5kIiwKICAibGluZUpvaW4iOiAicm91bmQiLAogICJvcGFjaXR5IjogMS4wLAogICJyYWRpdXMiOiA0LAogICJzdHJva2UiOiB0cnVlLAogICJ3ZWlnaHQiOiAyCn0KICAgICAgICAgICAgICAgICkuYWRkVG8obWFwX2FhMjY1YmVjZmI5NzRkZDk5ZTc4ODYyY2FlYTg0MmVhKTsKICAgICAgICAgICAgCiAgICAKICAgICAgICAgICAgdmFyIHBvcHVwX2M2YTQzZWQxOGIxYjQ0YzFiZThjYTQ2ZGI1YjBmMTBhID0gTC5wb3B1cCh7bWF4V2lkdGg6ICczMDAnfSk7CgogICAgICAgICAgICAKICAgICAgICAgICAgICAgIHZhciBodG1sXzU0NjRlMmQ4MTM3MDQyOGFhOWE1YTRlYWYwNjQ1YTAxID0gJCgnPGRpdiBpZD0iaHRtbF81NDY0ZTJkODEzNzA0MjhhYTlhNWE0ZWFmMDY0NWEwMSIgc3R5bGU9IndpZHRoOiAxMDAuMCU7IGhlaWdodDogMTAwLjAlOyI+UG9zdGNvZGU6MzAyMCwgTm8gUmVzdGF1cmFudHM6IDEyIENsdXN0ZXIgMTwvZGl2PicpWzBdOwogICAgICAgICAgICAgICAgcG9wdXBfYzZhNDNlZDE4YjFiNDRjMWJlOGNhNDZkYjViMGYxMGEuc2V0Q29udGVudChodG1sXzU0NjRlMmQ4MTM3MDQyOGFhOWE1YTRlYWYwNjQ1YTAxKTsKICAgICAgICAgICAgCgogICAgICAgICAgICBjaXJjbGVfbWFya2VyX2IzMmU1ZGE4NTc1MDQyYTc5NjBhZDAyYjNkMWI0ZjhjLmJpbmRQb3B1cChwb3B1cF9jNmE0M2VkMThiMWI0NGMxYmU4Y2E0NmRiNWIwZjEwYSk7CgogICAgICAgICAgICAKICAgICAgICAKICAgIAogICAgICAgICAgICB2YXIgY2lyY2xlX21hcmtlcl82ODMzMGU2ZDRhMGY0ZDk2ODQ0NTgyYTdhNjEwNTg1NiA9IEwuY2lyY2xlTWFya2VyKAogICAgICAgICAgICAgICAgWy0zNy43NDMzNjEsMTQ0Ljc5NjY5M10sCiAgICAgICAgICAgICAgICB7CiAgImJ1YmJsaW5nTW91c2VFdmVudHMiOiB0cnVlLAogICJjb2xvciI6ICJibGFjayIsCiAgImRhc2hBcnJheSI6IG51bGwsCiAgImRhc2hPZmZzZXQiOiBudWxsLAogICJmaWxsIjogdHJ1ZSwKICAiZmlsbENvbG9yIjogIiNmZjAwMDAiLAogICJmaWxsT3BhY2l0eSI6IDAuNywKICAiZmlsbFJ1bGUiOiAiZXZlbm9kZCIsCiAgImxpbmVDYXAiOiAicm91bmQiLAogICJsaW5lSm9pbiI6ICJyb3VuZCIsCiAgIm9wYWNpdHkiOiAxLjAsCiAgInJhZGl1cyI6IDQsCiAgInN0cm9rZSI6IHRydWUsCiAgIndlaWdodCI6IDIKfQogICAgICAgICAgICAgICAgKS5hZGRUbyhtYXBfYWEyNjViZWNmYjk3NGRkOTllNzg4NjJjYWVhODQyZWEpOwogICAgICAgICAgICAKICAgIAogICAgICAgICAgICB2YXIgcG9wdXBfM2U5YmVkZTg2YzYwNGZlZGFjYjBhN2I3M2FjMjZkNTAgPSBMLnBvcHVwKHttYXhXaWR0aDogJzMwMCd9KTsKCiAgICAgICAgICAgIAogICAgICAgICAgICAgICAgdmFyIGh0bWxfMjQ3MzA2MTVjZGMwNDcwNGE1MjVkOWM4MzBiYjI2Y2QgPSAkKCc8ZGl2IGlkPSJodG1sXzI0NzMwNjE1Y2RjMDQ3MDRhNTI1ZDljODMwYmIyNmNkIiBzdHlsZT0id2lkdGg6IDEwMC4wJTsgaGVpZ2h0OiAxMDAuMCU7Ij5Qb3N0Y29kZTozMDIxLCBObyBSZXN0YXVyYW50czogMTIgQ2x1c3RlciAxPC9kaXY+JylbMF07CiAgICAgICAgICAgICAgICBwb3B1cF8zZTliZWRlODZjNjA0ZmVkYWNiMGE3YjczYWMyNmQ1MC5zZXRDb250ZW50KGh0bWxfMjQ3MzA2MTVjZGMwNDcwNGE1MjVkOWM4MzBiYjI2Y2QpOwogICAgICAgICAgICAKCiAgICAgICAgICAgIGNpcmNsZV9tYXJrZXJfNjgzMzBlNmQ0YTBmNGQ5Njg0NDU4MmE3YTYxMDU4NTYuYmluZFBvcHVwKHBvcHVwXzNlOWJlZGU4NmM2MDRmZWRhY2IwYTdiNzNhYzI2ZDUwKTsKCiAgICAgICAgICAgIAogICAgICAgIAogICAgCiAgICAgICAgICAgIHZhciBjaXJjbGVfbWFya2VyX2ZiZDU0MDc5ZjlhZDQxODM4ZWU3NTNmZDY1ZGVmYWY3ID0gTC5jaXJjbGVNYXJrZXIoCiAgICAgICAgICAgICAgICBbLTM3LjgxODUxNywxNDQuOTgyMjA3XSwKICAgICAgICAgICAgICAgIHsKICAiYnViYmxpbmdNb3VzZUV2ZW50cyI6IHRydWUsCiAgImNvbG9yIjogImJsYWNrIiwKICAiZGFzaEFycmF5IjogbnVsbCwKICAiZGFzaE9mZnNldCI6IG51bGwsCiAgImZpbGwiOiB0cnVlLAogICJmaWxsQ29sb3IiOiAiI2ZmZmYwMCIsCiAgImZpbGxPcGFjaXR5IjogMC43LAogICJmaWxsUnVsZSI6ICJldmVub2RkIiwKICAibGluZUNhcCI6ICJyb3VuZCIsCiAgImxpbmVKb2luIjogInJvdW5kIiwKICAib3BhY2l0eSI6IDEuMCwKICAicmFkaXVzIjogNCwKICAic3Ryb2tlIjogdHJ1ZSwKICAid2VpZ2h0IjogMgp9CiAgICAgICAgICAgICAgICApLmFkZFRvKG1hcF9hYTI2NWJlY2ZiOTc0ZGQ5OWU3ODg2MmNhZWE4NDJlYSk7CiAgICAgICAgICAgIAogICAgCiAgICAgICAgICAgIHZhciBwb3B1cF9kNWQ3NTM3NmU0OTM0NDk5OGQwMzJiZmRlNTk3NGIxZiA9IEwucG9wdXAoe21heFdpZHRoOiAnMzAwJ30pOwoKICAgICAgICAgICAgCiAgICAgICAgICAgICAgICB2YXIgaHRtbF85MzQ4YzA0NjA0MTY0MWVhYWMzMGMxYjY2ZDU5NWE1MyA9ICQoJzxkaXYgaWQ9Imh0bWxfOTM0OGMwNDYwNDE2NDFlYWFjMzBjMWI2NmQ1OTVhNTMiIHN0eWxlPSJ3aWR0aDogMTAwLjAlOyBoZWlnaHQ6IDEwMC4wJTsiPlBvc3Rjb2RlOjMwMDIsIE5vIFJlc3RhdXJhbnRzOiAxNCBDbHVzdGVyIDQ8L2Rpdj4nKVswXTsKICAgICAgICAgICAgICAgIHBvcHVwX2Q1ZDc1Mzc2ZTQ5MzQ0OTk4ZDAzMmJmZGU1OTc0YjFmLnNldENvbnRlbnQoaHRtbF85MzQ4YzA0NjA0MTY0MWVhYWMzMGMxYjY2ZDU5NWE1Myk7CiAgICAgICAgICAgIAoKICAgICAgICAgICAgY2lyY2xlX21hcmtlcl9mYmQ1NDA3OWY5YWQ0MTgzOGVlNzUzZmQ2NWRlZmFmNy5iaW5kUG9wdXAocG9wdXBfZDVkNzUzNzZlNDkzNDQ5OThkMDMyYmZkZTU5NzRiMWYpOwoKICAgICAgICAgICAgCiAgICAgICAgCiAgICAKICAgICAgICAgICAgdmFyIGNpcmNsZV9tYXJrZXJfOGQzMDUxM2ZmYTc1NDVhM2E3ZjMyZTJiOGJjYzA5MTIgPSBMLmNpcmNsZU1hcmtlcigKICAgICAgICAgICAgICAgIFstMzcuODEwODcxLDE0NC45NDk1OTJdLAogICAgICAgICAgICAgICAgewogICJidWJibGluZ01vdXNlRXZlbnRzIjogdHJ1ZSwKICAiY29sb3IiOiAiYmxhY2siLAogICJkYXNoQXJyYXkiOiBudWxsLAogICJkYXNoT2Zmc2V0IjogbnVsbCwKICAiZmlsbCI6IHRydWUsCiAgImZpbGxDb2xvciI6ICIjMDAwMGZmIiwKICAiZmlsbE9wYWNpdHkiOiAwLjcsCiAgImZpbGxSdWxlIjogImV2ZW5vZGQiLAogICJsaW5lQ2FwIjogInJvdW5kIiwKICAibGluZUpvaW4iOiAicm91bmQiLAogICJvcGFjaXR5IjogMS4wLAogICJyYWRpdXMiOiA0LjIsCiAgInN0cm9rZSI6IHRydWUsCiAgIndlaWdodCI6IDIKfQogICAgICAgICAgICAgICAgKS5hZGRUbyhtYXBfYWEyNjViZWNmYjk3NGRkOTllNzg4NjJjYWVhODQyZWEpOwogICAgICAgICAgICAKICAgIAogICAgICAgICAgICB2YXIgcG9wdXBfMTBlZDZhZjc1YzlmNGQ1ZTk1OWE5NmJmZTE1MjJjY2UgPSBMLnBvcHVwKHttYXhXaWR0aDogJzMwMCd9KTsKCiAgICAgICAgICAgIAogICAgICAgICAgICAgICAgdmFyIGh0bWxfMmEwMzIxMzdlMTRjNDFkZmI5YjNiZDA4ZmM3NDlmMGEgPSAkKCc8ZGl2IGlkPSJodG1sXzJhMDMyMTM3ZTE0YzQxZGZiOWIzYmQwOGZjNzQ5ZjBhIiBzdHlsZT0id2lkdGg6IDEwMC4wJTsgaGVpZ2h0OiAxMDAuMCU7Ij5Qb3N0Y29kZTozMDAzLCBObyBSZXN0YXVyYW50czogMjEgQ2x1c3RlciAzPC9kaXY+JylbMF07CiAgICAgICAgICAgICAgICBwb3B1cF8xMGVkNmFmNzVjOWY0ZDVlOTU5YTk2YmZlMTUyMmNjZS5zZXRDb250ZW50KGh0bWxfMmEwMzIxMzdlMTRjNDFkZmI5YjNiZDA4ZmM3NDlmMGEpOwogICAgICAgICAgICAKCiAgICAgICAgICAgIGNpcmNsZV9tYXJrZXJfOGQzMDUxM2ZmYTc1NDVhM2E3ZjMyZTJiOGJjYzA5MTIuYmluZFBvcHVwKHBvcHVwXzEwZWQ2YWY3NWM5ZjRkNWU5NTlhOTZiZmUxNTIyY2NlKTsKCiAgICAgICAgICAgIAogICAgICAgIAogICAgCiAgICAgICAgICAgIHZhciBjaXJjbGVfbWFya2VyXzg5YjM5OWZiMWFjNDQxYWI5MjFiY2YzZWY1ZTM4ZDBjID0gTC5jaXJjbGVNYXJrZXIoCiAgICAgICAgICAgICAgICBbLTM3Ljc5NjE1MiwxNDQuOTYxMzUxXSwKICAgICAgICAgICAgICAgIHsKICAiYnViYmxpbmdNb3VzZUV2ZW50cyI6IHRydWUsCiAgImNvbG9yIjogImJsYWNrIiwKICAiZGFzaEFycmF5IjogbnVsbCwKICAiZGFzaE9mZnNldCI6IG51bGwsCiAgImZpbGwiOiB0cnVlLAogICJmaWxsQ29sb3IiOiAiIzAwMDBmZiIsCiAgImZpbGxPcGFjaXR5IjogMC43LAogICJmaWxsUnVsZSI6ICJldmVub2RkIiwKICAibGluZUNhcCI6ICJyb3VuZCIsCiAgImxpbmVKb2luIjogInJvdW5kIiwKICAib3BhY2l0eSI6IDEuMCwKICAicmFkaXVzIjogNC44LAogICJzdHJva2UiOiB0cnVlLAogICJ3ZWlnaHQiOiAyCn0KICAgICAgICAgICAgICAgICkuYWRkVG8obWFwX2FhMjY1YmVjZmI5NzRkZDk5ZTc4ODYyY2FlYTg0MmVhKTsKICAgICAgICAgICAgCiAgICAKICAgICAgICAgICAgdmFyIHBvcHVwX2U0ZjU1OTgwZjk5ZjQ1NjM4ZWUxZDc5YzdmYjk5YmM4ID0gTC5wb3B1cCh7bWF4V2lkdGg6ICczMDAnfSk7CgogICAgICAgICAgICAKICAgICAgICAgICAgICAgIHZhciBodG1sXzI1NTNiYTdmYWE4YTRiMWNiY2FhMTE2ODlkNmEyNDNmID0gJCgnPGRpdiBpZD0iaHRtbF8yNTUzYmE3ZmFhOGE0YjFjYmNhYTExNjg5ZDZhMjQzZiIgc3R5bGU9IndpZHRoOiAxMDAuMCU7IGhlaWdodDogMTAwLjAlOyI+UG9zdGNvZGU6MzAxMCwgTm8gUmVzdGF1cmFudHM6IDI0IENsdXN0ZXIgMzwvZGl2PicpWzBdOwogICAgICAgICAgICAgICAgcG9wdXBfZTRmNTU5ODBmOTlmNDU2MzhlZTFkNzljN2ZiOTliYzguc2V0Q29udGVudChodG1sXzI1NTNiYTdmYWE4YTRiMWNiY2FhMTE2ODlkNmEyNDNmKTsKICAgICAgICAgICAgCgogICAgICAgICAgICBjaXJjbGVfbWFya2VyXzg5YjM5OWZiMWFjNDQxYWI5MjFiY2YzZWY1ZTM4ZDBjLmJpbmRQb3B1cChwb3B1cF9lNGY1NTk4MGY5OWY0NTYzOGVlMWQ3OWM3ZmI5OWJjOCk7CgogICAgICAgICAgICAKICAgICAgICAKICAgIAogICAgICAgICAgICB2YXIgY2lyY2xlX21hcmtlcl8yNDcxNTI4MWZjZDY0ODkzOTIwYzZlMmZhM2FmNTU2NCA9IEwuY2lyY2xlTWFya2VyKAogICAgICAgICAgICAgICAgWy0zNy44MTQxODMsMTQ0Ljg4ODY4Nl0sCiAgICAgICAgICAgICAgICB7CiAgImJ1YmJsaW5nTW91c2VFdmVudHMiOiB0cnVlLAogICJjb2xvciI6ICJibGFjayIsCiAgImRhc2hBcnJheSI6IG51bGwsCiAgImRhc2hPZmZzZXQiOiBudWxsLAogICJmaWxsIjogdHJ1ZSwKICAiZmlsbENvbG9yIjogIiMwMDAwZmYiLAogICJmaWxsT3BhY2l0eSI6IDAuNywKICAiZmlsbFJ1bGUiOiAiZXZlbm9kZCIsCiAgImxpbmVDYXAiOiAicm91bmQiLAogICJsaW5lSm9pbiI6ICJyb3VuZCIsCiAgIm9wYWNpdHkiOiAxLjAsCiAgInJhZGl1cyI6IDYuNCwKICAic3Ryb2tlIjogdHJ1ZSwKICAid2VpZ2h0IjogMgp9CiAgICAgICAgICAgICAgICApLmFkZFRvKG1hcF9hYTI2NWJlY2ZiOTc0ZGQ5OWU3ODg2MmNhZWE4NDJlYSk7CiAgICAgICAgICAgIAogICAgCiAgICAgICAgICAgIHZhciBwb3B1cF84MmViZGJlZWNmYTA0MWYxYmM3ZWE0ZTBlNWY3YzExZiA9IEwucG9wdXAoe21heFdpZHRoOiAnMzAwJ30pOwoKICAgICAgICAgICAgCiAgICAgICAgICAgICAgICB2YXIgaHRtbF82MjBmOTFjOGJjMDk0MzBkOTVjZmMxZGY2NzA0NDE2YSA9ICQoJzxkaXYgaWQ9Imh0bWxfNjIwZjkxYzhiYzA5NDMwZDk1Y2ZjMWRmNjcwNDQxNmEiIHN0eWxlPSJ3aWR0aDogMTAwLjAlOyBoZWlnaHQ6IDEwMC4wJTsiPlBvc3Rjb2RlOjMwMTMsIE5vIFJlc3RhdXJhbnRzOiAzMiBDbHVzdGVyIDM8L2Rpdj4nKVswXTsKICAgICAgICAgICAgICAgIHBvcHVwXzgyZWJkYmVlY2ZhMDQxZjFiYzdlYTRlMGU1ZjdjMTFmLnNldENvbnRlbnQoaHRtbF82MjBmOTFjOGJjMDk0MzBkOTVjZmMxZGY2NzA0NDE2YSk7CiAgICAgICAgICAgIAoKICAgICAgICAgICAgY2lyY2xlX21hcmtlcl8yNDcxNTI4MWZjZDY0ODkzOTIwYzZlMmZhM2FmNTU2NC5iaW5kUG9wdXAocG9wdXBfODJlYmRiZWVjZmEwNDFmMWJjN2VhNGUwZTVmN2MxMWYpOwoKICAgICAgICAgICAgCiAgICAgICAgCiAgICAKICAgICAgICAgICAgdmFyIGNpcmNsZV9tYXJrZXJfNTNiYzkyMzczZTczNGY1ZjgxNDQ2YWYyZjU2OTJlZDMgPSBMLmNpcmNsZU1hcmtlcigKICAgICAgICAgICAgICAgIFstMzcuODI0NjA4LDE0NC45NTA4NThdLAogICAgICAgICAgICAgICAgewogICJidWJibGluZ01vdXNlRXZlbnRzIjogdHJ1ZSwKICAiY29sb3IiOiAiYmxhY2siLAogICJkYXNoQXJyYXkiOiBudWxsLAogICJkYXNoT2Zmc2V0IjogbnVsbCwKICAiZmlsbCI6IHRydWUsCiAgImZpbGxDb2xvciI6ICIjMDAwMGZmIiwKICAiZmlsbE9wYWNpdHkiOiAwLjcsCiAgImZpbGxSdWxlIjogImV2ZW5vZGQiLAogICJsaW5lQ2FwIjogInJvdW5kIiwKICAibGluZUpvaW4iOiAicm91bmQiLAogICJvcGFjaXR5IjogMS4wLAogICJyYWRpdXMiOiA2LjYsCiAgInN0cm9rZSI6IHRydWUsCiAgIndlaWdodCI6IDIKfQogICAgICAgICAgICAgICAgKS5hZGRUbyhtYXBfYWEyNjViZWNmYjk3NGRkOTllNzg4NjJjYWVhODQyZWEpOwogICAgICAgICAgICAKICAgIAogICAgICAgICAgICB2YXIgcG9wdXBfYWRkYzBiNjI4ZDRkNDI0YjkwNmFiOTI0MTFkZGVkYjkgPSBMLnBvcHVwKHttYXhXaWR0aDogJzMwMCd9KTsKCiAgICAgICAgICAgIAogICAgICAgICAgICAgICAgdmFyIGh0bWxfYTZlNDU4NzljN2UyNDUwNTljMzA4ZGM2YTJhNGRlMzMgPSAkKCc8ZGl2IGlkPSJodG1sX2E2ZTQ1ODc5YzdlMjQ1MDU5YzMwOGRjNmEyYTRkZTMzIiBzdHlsZT0id2lkdGg6IDEwMC4wJTsgaGVpZ2h0OiAxMDAuMCU7Ij5Qb3N0Y29kZTozMDA1LCBObyBSZXN0YXVyYW50czogMzMgQ2x1c3RlciAzPC9kaXY+JylbMF07CiAgICAgICAgICAgICAgICBwb3B1cF9hZGRjMGI2MjhkNGQ0MjRiOTA2YWI5MjQxMWRkZWRiOS5zZXRDb250ZW50KGh0bWxfYTZlNDU4NzljN2UyNDUwNTljMzA4ZGM2YTJhNGRlMzMpOwogICAgICAgICAgICAKCiAgICAgICAgICAgIGNpcmNsZV9tYXJrZXJfNTNiYzkyMzczZTczNGY1ZjgxNDQ2YWYyZjU2OTJlZDMuYmluZFBvcHVwKHBvcHVwX2FkZGMwYjYyOGQ0ZDQyNGI5MDZhYjkyNDExZGRlZGI5KTsKCiAgICAgICAgICAgIAogICAgICAgIAogICAgCiAgICAgICAgICAgIHZhciBjaXJjbGVfbWFya2VyXzRmOTNiMWU3NmIzMjQwZDE5NDYzZjZmZTIxM2FiZjhkID0gTC5jaXJjbGVNYXJrZXIoCiAgICAgICAgICAgICAgICBbLTM3LjgyNDI3MjM3NSwxNDQuOTU5MDAwMl0sCiAgICAgICAgICAgICAgICB7CiAgImJ1YmJsaW5nTW91c2VFdmVudHMiOiB0cnVlLAogICJjb2xvciI6ICJibGFjayIsCiAgImRhc2hBcnJheSI6IG51bGwsCiAgImRhc2hPZmZzZXQiOiBudWxsLAogICJmaWxsIjogdHJ1ZSwKICAiZmlsbENvbG9yIjogIiMwMDAwMDAiLAogICJmaWxsT3BhY2l0eSI6IDAuNywKICAiZmlsbFJ1bGUiOiAiZXZlbm9kZCIsCiAgImxpbmVDYXAiOiAicm91bmQiLAogICJsaW5lSm9pbiI6ICJyb3VuZCIsCiAgIm9wYWNpdHkiOiAxLjAsCiAgInJhZGl1cyI6IDkuMCwKICAic3Ryb2tlIjogdHJ1ZSwKICAid2VpZ2h0IjogMgp9CiAgICAgICAgICAgICAgICApLmFkZFRvKG1hcF9hYTI2NWJlY2ZiOTc0ZGQ5OWU3ODg2MmNhZWE4NDJlYSk7CiAgICAgICAgICAgIAogICAgCiAgICAgICAgICAgIHZhciBwb3B1cF9lMzc4NDEyZGE0MzI0ZDUwODI4ODViZTQxYmRmYWQ2OSA9IEwucG9wdXAoe21heFdpZHRoOiAnMzAwJ30pOwoKICAgICAgICAgICAgCiAgICAgICAgICAgICAgICB2YXIgaHRtbF8yZTYzZWNkZDMzZDE0ODg4YmNmM2FlM2ZkMDI4MzAxNiA9ICQoJzxkaXYgaWQ9Imh0bWxfMmU2M2VjZGQzM2QxNDg4OGJjZjNhZTNmZDAyODMwMTYiIHN0eWxlPSJ3aWR0aDogMTAwLjAlOyBoZWlnaHQ6IDEwMC4wJTsiPlBvc3Rjb2RlOjMwMDYsIE5vIFJlc3RhdXJhbnRzOiA0NSBDbHVzdGVyIDA8L2Rpdj4nKVswXTsKICAgICAgICAgICAgICAgIHBvcHVwX2UzNzg0MTJkYTQzMjRkNTA4Mjg4NWJlNDFiZGZhZDY5LnNldENvbnRlbnQoaHRtbF8yZTYzZWNkZDMzZDE0ODg4YmNmM2FlM2ZkMDI4MzAxNik7CiAgICAgICAgICAgIAoKICAgICAgICAgICAgY2lyY2xlX21hcmtlcl80ZjkzYjFlNzZiMzI0MGQxOTQ2M2Y2ZmUyMTNhYmY4ZC5iaW5kUG9wdXAocG9wdXBfZTM3ODQxMmRhNDMyNGQ1MDgyODg1YmU0MWJkZmFkNjkpOwoKICAgICAgICAgICAgCiAgICAgICAgCiAgICAKICAgICAgICAgICAgdmFyIGNpcmNsZV9tYXJrZXJfMDg4NzgyYWNhMWUxNGYyOTliOTZkMDNmNDg1ODFhZjQgPSBMLmNpcmNsZU1hcmtlcigKICAgICAgICAgICAgICAgIFstMzcuODE0NzE5LDE0NC45NDgwMzldLAogICAgICAgICAgICAgICAgewogICJidWJibGluZ01vdXNlRXZlbnRzIjogdHJ1ZSwKICAiY29sb3IiOiAiYmxhY2siLAogICJkYXNoQXJyYXkiOiBudWxsLAogICJkYXNoT2Zmc2V0IjogbnVsbCwKICAiZmlsbCI6IHRydWUsCiAgImZpbGxDb2xvciI6ICIjMDAwMDAwIiwKICAiZmlsbE9wYWNpdHkiOiAwLjcsCiAgImZpbGxSdWxlIjogImV2ZW5vZGQiLAogICJsaW5lQ2FwIjogInJvdW5kIiwKICAibGluZUpvaW4iOiAicm91bmQiLAogICJvcGFjaXR5IjogMS4wLAogICJyYWRpdXMiOiAxMi4yLAogICJzdHJva2UiOiB0cnVlLAogICJ3ZWlnaHQiOiAyCn0KICAgICAgICAgICAgICAgICkuYWRkVG8obWFwX2FhMjY1YmVjZmI5NzRkZDk5ZTc4ODYyY2FlYTg0MmVhKTsKICAgICAgICAgICAgCiAgICAKICAgICAgICAgICAgdmFyIHBvcHVwX2VmZmQzZmEwMGZjNDQ4Yjk5Njc2NjZkMzNiMjZmYTZhID0gTC5wb3B1cCh7bWF4V2lkdGg6ICczMDAnfSk7CgogICAgICAgICAgICAKICAgICAgICAgICAgICAgIHZhciBodG1sX2Y5NWE4MjZjMzEzNDRiNmNiMTZmNWUyZjQ0ODE1MDkzID0gJCgnPGRpdiBpZD0iaHRtbF9mOTVhODI2YzMxMzQ0YjZjYjE2ZjVlMmY0NDgxNTA5MyIgc3R5bGU9IndpZHRoOiAxMDAuMCU7IGhlaWdodDogMTAwLjAlOyI+UG9zdGNvZGU6MzAwOCwgTm8gUmVzdGF1cmFudHM6IDYxIENsdXN0ZXIgMDwvZGl2PicpWzBdOwogICAgICAgICAgICAgICAgcG9wdXBfZWZmZDNmYTAwZmM0NDhiOTk2NzY2NmQzM2IyNmZhNmEuc2V0Q29udGVudChodG1sX2Y5NWE4MjZjMzEzNDRiNmNiMTZmNWUyZjQ0ODE1MDkzKTsKICAgICAgICAgICAgCgogICAgICAgICAgICBjaXJjbGVfbWFya2VyXzA4ODc4MmFjYTFlMTRmMjk5Yjk2ZDAzZjQ4NTgxYWY0LmJpbmRQb3B1cChwb3B1cF9lZmZkM2ZhMDBmYzQ0OGI5OTY3NjY2ZDMzYjI2ZmE2YSk7CgogICAgICAgICAgICAKICAgICAgICAKICAgIAogICAgICAgICAgICB2YXIgY2lyY2xlX21hcmtlcl8zZTdmZmMxOTYwZWE0MWJiODI5MWJjMjRkNDVjNDM5YyA9IEwuY2lyY2xlTWFya2VyKAogICAgICAgICAgICAgICAgWy0zNy44MTc0MDMsMTQ0Ljk1Njc3Nl0sCiAgICAgICAgICAgICAgICB7CiAgImJ1YmJsaW5nTW91c2VFdmVudHMiOiB0cnVlLAogICJjb2xvciI6ICJibGFjayIsCiAgImRhc2hBcnJheSI6IG51bGwsCiAgImRhc2hPZmZzZXQiOiBudWxsLAogICJmaWxsIjogdHJ1ZSwKICAiZmlsbENvbG9yIjogIiNmZjAwZmYiLAogICJmaWxsT3BhY2l0eSI6IDAuNywKICAiZmlsbFJ1bGUiOiAiZXZlbm9kZCIsCiAgImxpbmVDYXAiOiAicm91bmQiLAogICJsaW5lSm9pbiI6ICJyb3VuZCIsCiAgIm9wYWNpdHkiOiAxLjAsCiAgInJhZGl1cyI6IDE0LjAsCiAgInN0cm9rZSI6IHRydWUsCiAgIndlaWdodCI6IDIKfQogICAgICAgICAgICAgICAgKS5hZGRUbyhtYXBfYWEyNjViZWNmYjk3NGRkOTllNzg4NjJjYWVhODQyZWEpOwogICAgICAgICAgICAKICAgIAogICAgICAgICAgICB2YXIgcG9wdXBfZWY0MTQ0OTk4Yjg0NGFhZjlmZGFlZGJmZDExYzRkNWYgPSBMLnBvcHVwKHttYXhXaWR0aDogJzMwMCd9KTsKCiAgICAgICAgICAgIAogICAgICAgICAgICAgICAgdmFyIGh0bWxfYjA4OWVlOTkxMGRmNDQ1MDlmYjQxNzkzMjZkYmFkYTggPSAkKCc8ZGl2IGlkPSJodG1sX2IwODllZTk5MTBkZjQ0NTA5ZmI0MTc5MzI2ZGJhZGE4IiBzdHlsZT0id2lkdGg6IDEwMC4wJTsgaGVpZ2h0OiAxMDAuMCU7Ij5Qb3N0Y29kZTozMDAwLCBObyBSZXN0YXVyYW50czogNzAgQ2x1c3RlciAyPC9kaXY+JylbMF07CiAgICAgICAgICAgICAgICBwb3B1cF9lZjQxNDQ5OThiODQ0YWFmOWZkYWVkYmZkMTFjNGQ1Zi5zZXRDb250ZW50KGh0bWxfYjA4OWVlOTkxMGRmNDQ1MDlmYjQxNzkzMjZkYmFkYTgpOwogICAgICAgICAgICAKCiAgICAgICAgICAgIGNpcmNsZV9tYXJrZXJfM2U3ZmZjMTk2MGVhNDFiYjgyOTFiYzI0ZDQ1YzQzOWMuYmluZFBvcHVwKHBvcHVwX2VmNDE0NDk5OGI4NDRhYWY5ZmRhZWRiZmQxMWM0ZDVmKTsKCiAgICAgICAgICAgIAogICAgICAgIAo8L3NjcmlwdD4= onload=\"this.contentDocument.open();this.contentDocument.write(atob(this.getAttribute('data-html')));this.contentDocument.close();\" allowfullscreen webkitallowfullscreen mozallowfullscreen></iframe></div></div>"
      ],
      "text/plain": [
       "<folium.folium.Map at 0x1610e888>"
      ]
     },
     "execution_count": 224,
     "metadata": {},
     "output_type": "execute_result"
    }
   ],
   "source": [
    "# create map\n",
    "import folium\n",
    "import matplotlib.cm as cm \n",
    "import matplotlib.colors as colors\n",
    "map_clusters = folium.Map(location=[latitude, longitude], zoom_start=11)\n",
    "\n",
    "# set color scheme for the clusters\n",
    "#x = np.arange(kclusters)\n",
    "#ys = [i + x + (i*x)**2 for i in range(kclusters)]\n",
    "#colors_array = cm.jet(np.linspace(0, 1, kclusters))\n",
    "colors_array=['red','magenta','blue','yellow','black']\n",
    "rainbow = [colors.rgb2hex(i) for i in colors_array]\n",
    "\n",
    "# add markers to the map\n",
    "markers_colors = []\n",
    "for lat, lon, poi, cluster,crime,noRes in zip(Melb_venues_crimes['Latitude'], Melb_venues_crimes['Longitude'], Melb_venues_crimes['Postcode'], Melb_venues_crimes['Cluster Labels'],Melb_venues_crimes['Incidents Recorded'],Melb_venues_crimes['No Restaurants']):\n",
    "    label = folium.Popup('Postcode:'+str(poi) + ', No Restaurants: '+str(noRes)+' Cluster ' + str(cluster), parse_html=True)\n",
    "    folium.CircleMarker(\n",
    "        [lat, lon],\n",
    "        radius=max(4,noRes/5),\n",
    "        popup=label,\n",
    "        color='black',\n",
    "        fill=True,\n",
    "        fill_color=rainbow[int(cluster)-1],\n",
    "        weight= 2,\n",
    "        fill_opacity=0.7).add_to(map_clusters)\n",
    "       \n",
    "map_clusters"
   ]
  },
  {
   "cell_type": "markdown",
   "metadata": {},
   "source": [
    "We now visualise the clusters on the geographical map of Melbourne to see where suburbs are located and how they are clustered. Figure 8 shows the Melbourne suburbs clusters as circles. Each colour represents one cluster and the radius of circles is approximately proportional to the number of restaurants. We can clearly see that the cluster 1 (black) and 0 (purple) are close to each other which have high number of restaurants. Cluster 3 (blue) has relatively high number of restaurants. Cluster 2 (red) and 4 (yellow) have lower number of restaurants."
   ]
  },
  {
   "cell_type": "code",
   "execution_count": 226,
   "metadata": {
    "scrolled": false
   },
   "outputs": [
    {
     "data": {
      "text/html": [
       "<div style=\"width:100%;\"><div style=\"position:relative;width:100%;height:0;padding-bottom:60%;\"><span style=\"color:#565656\">Make this Notebook Trusted to load map: File -> Trust Notebook</span><iframe src=\"about:blank\" style=\"position:absolute;width:100%;height:100%;left:0;top:0;border:none !important;\" data-html=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 onload=\"this.contentDocument.open();this.contentDocument.write(atob(this.getAttribute('data-html')));this.contentDocument.close();\" allowfullscreen webkitallowfullscreen mozallowfullscreen></iframe></div></div>"
      ],
      "text/plain": [
       "<folium.folium.Map at 0x1a8b9308>"
      ]
     },
     "execution_count": 226,
     "metadata": {},
     "output_type": "execute_result"
    }
   ],
   "source": [
    "map_clusters = folium.Map(location=[latitude, longitude], zoom_start=11)\n",
    "\n",
    "# set color scheme for the clusters\n",
    "#x = np.arange(kclusters)\n",
    "#ys = [i + x + (i*x)**2 for i in range(kclusters)]\n",
    "#colors_array = cm.jet(np.linspace(0, 1, kclusters))\n",
    "colors_array=['red','magenta','blue','yellow','black']\n",
    "rainbow = [colors.rgb2hex(i) for i in colors_array]\n",
    "\n",
    "# add markers to the map\n",
    "markers_colors = []\n",
    "for lat, lon, poi, cluster,crime,noRes in zip(Melb_venues_crimes['Latitude'], Melb_venues_crimes['Longitude'], Melb_venues_crimes['Postcode'], Melb_venues_crimes['Cluster Labels'],Melb_venues_crimes['Incidents Recorded'],Melb_venues_crimes['No Restaurants']):\n",
    "    label = folium.Popup('Postcode:'+str(poi) + ', No Crimes: '+str(crime)+' Cluster ' + str(cluster), parse_html=True)\n",
    "    folium.CircleMarker(\n",
    "        [lat, lon],\n",
    "        radius=max(4,crime/4000),\n",
    "        popup=label,\n",
    "        color='black',\n",
    "        fill=True,\n",
    "        fill_color=rainbow[int(cluster)-1],\n",
    "        fill_opacity=0.7).add_to(map_clusters)\n",
    "       \n",
    "map_clusters"
   ]
  },
  {
   "cell_type": "markdown",
   "metadata": {},
   "source": [
    "Cluster 4 which is the best cluster for opening the new restaurant is shown in yellow which are scattered form east to west of the map. Now, let’s look at the above map which shows the Melbourne suburbs clustering. In this figure the radius of circles is approximately proportional to their number of crimes. Now, the difference between cluster 2 (red) and 4 (yellow), having low number of restaurants, is more distinct. Comparison of these clusters show that the cluster 2 (red) has higher crime rate. Cluster 3 (blue) also has lower crime rate but the previous map indicated that this cluster has a high number of restaurants which makes the competition for the new restaurant more difficult."
   ]
  },
  {
   "cell_type": "markdown",
   "metadata": {},
   "source": [
    "----\n",
    "The following table shows all suburbs in cluster 4. Our desired suburb is in this cluster so, we need to first compare the suburbs in this table. Considering tge crime data and the number of restaurants in the suburbs, the top 3 subrubs are those with postcode 3022,3004,3018."
   ]
  },
  {
   "cell_type": "code",
   "execution_count": 242,
   "metadata": {},
   "outputs": [
    {
     "data": {
      "text/html": [
       "<div>\n",
       "<style scoped>\n",
       "    .dataframe tbody tr th:only-of-type {\n",
       "        vertical-align: middle;\n",
       "    }\n",
       "\n",
       "    .dataframe tbody tr th {\n",
       "        vertical-align: top;\n",
       "    }\n",
       "\n",
       "    .dataframe thead th {\n",
       "        text-align: right;\n",
       "    }\n",
       "</style>\n",
       "<table border=\"1\" class=\"dataframe\">\n",
       "  <thead>\n",
       "    <tr style=\"text-align: right;\">\n",
       "      <th></th>\n",
       "      <th>Cluster Labels</th>\n",
       "      <th>Postcode</th>\n",
       "      <th>Suburb</th>\n",
       "      <th>Latitude</th>\n",
       "      <th>Longitude</th>\n",
       "      <th>No Restaurants</th>\n",
       "      <th>Incidents Recorded</th>\n",
       "    </tr>\n",
       "  </thead>\n",
       "  <tbody>\n",
       "    <tr>\n",
       "      <th>19</th>\n",
       "      <td>4</td>\n",
       "      <td>3024</td>\n",
       "      <td>FIELDSTONEMAMBOURIN MANOR_LAKESMOUNT_COTTRELLW...</td>\n",
       "      <td>-37.863403</td>\n",
       "      <td>144.580165</td>\n",
       "      <td>0</td>\n",
       "      <td>10275</td>\n",
       "    </tr>\n",
       "    <tr>\n",
       "      <th>17</th>\n",
       "      <td>4</td>\n",
       "      <td>3012</td>\n",
       "      <td>BROOKLYN  KINGSVILLEKINGSVILLE_WESTMAIDSTONE T...</td>\n",
       "      <td>-37.807135</td>\n",
       "      <td>144.861162</td>\n",
       "      <td>0</td>\n",
       "      <td>16537</td>\n",
       "    </tr>\n",
       "    <tr>\n",
       "      <th>3</th>\n",
       "      <td>4</td>\n",
       "      <td>3022</td>\n",
       "      <td>ARDEER    DEER_PARK_EAST</td>\n",
       "      <td>-37.795937</td>\n",
       "      <td>144.793961</td>\n",
       "      <td>1</td>\n",
       "      <td>3682</td>\n",
       "    </tr>\n",
       "    <tr>\n",
       "      <th>14</th>\n",
       "      <td>4</td>\n",
       "      <td>3016</td>\n",
       "      <td>WILLIAMSTOWNWILLIAMSTOWN_NORTH</td>\n",
       "      <td>-37.863743</td>\n",
       "      <td>144.888461</td>\n",
       "      <td>3</td>\n",
       "      <td>9665</td>\n",
       "    </tr>\n",
       "    <tr>\n",
       "      <th>4</th>\n",
       "      <td>4</td>\n",
       "      <td>3019</td>\n",
       "      <td>BRAYBROOK BRAYBROOK_NORTHROBINSON</td>\n",
       "      <td>-37.784683</td>\n",
       "      <td>144.854014</td>\n",
       "      <td>3</td>\n",
       "      <td>9498</td>\n",
       "    </tr>\n",
       "    <tr>\n",
       "      <th>9</th>\n",
       "      <td>4</td>\n",
       "      <td>3004</td>\n",
       "      <td>MELBOURNE ST_KILDA_ROAD_CENTRAL</td>\n",
       "      <td>-37.844246</td>\n",
       "      <td>144.970161</td>\n",
       "      <td>4</td>\n",
       "      <td>7453</td>\n",
       "    </tr>\n",
       "    <tr>\n",
       "      <th>2</th>\n",
       "      <td>4</td>\n",
       "      <td>3018</td>\n",
       "      <td>ALTONA    SEAHOLME</td>\n",
       "      <td>-37.861720</td>\n",
       "      <td>144.812736</td>\n",
       "      <td>5</td>\n",
       "      <td>7096</td>\n",
       "    </tr>\n",
       "    <tr>\n",
       "      <th>10</th>\n",
       "      <td>4</td>\n",
       "      <td>3015</td>\n",
       "      <td>NEWPORT   SOUTH_KINGSVILLESPOTSWOOD</td>\n",
       "      <td>-37.838242</td>\n",
       "      <td>144.880556</td>\n",
       "      <td>6</td>\n",
       "      <td>9118</td>\n",
       "    </tr>\n",
       "    <tr>\n",
       "      <th>6</th>\n",
       "      <td>4</td>\n",
       "      <td>3002</td>\n",
       "      <td>EAST_MELBOURNE</td>\n",
       "      <td>-37.818517</td>\n",
       "      <td>144.982207</td>\n",
       "      <td>14</td>\n",
       "      <td>7572</td>\n",
       "    </tr>\n",
       "  </tbody>\n",
       "</table>\n",
       "</div>"
      ],
      "text/plain": [
       "    Cluster Labels  Postcode  \\\n",
       "19               4      3024   \n",
       "17               4      3012   \n",
       "3                4      3022   \n",
       "14               4      3016   \n",
       "4                4      3019   \n",
       "9                4      3004   \n",
       "2                4      3018   \n",
       "10               4      3015   \n",
       "6                4      3002   \n",
       "\n",
       "                                               Suburb   Latitude   Longitude  \\\n",
       "19  FIELDSTONEMAMBOURIN MANOR_LAKESMOUNT_COTTRELLW... -37.863403  144.580165   \n",
       "17  BROOKLYN  KINGSVILLEKINGSVILLE_WESTMAIDSTONE T... -37.807135  144.861162   \n",
       "3                            ARDEER    DEER_PARK_EAST -37.795937  144.793961   \n",
       "14                     WILLIAMSTOWNWILLIAMSTOWN_NORTH -37.863743  144.888461   \n",
       "4                 BRAYBROOK BRAYBROOK_NORTHROBINSON   -37.784683  144.854014   \n",
       "9                     MELBOURNE ST_KILDA_ROAD_CENTRAL -37.844246  144.970161   \n",
       "2                                ALTONA    SEAHOLME   -37.861720  144.812736   \n",
       "10               NEWPORT   SOUTH_KINGSVILLESPOTSWOOD  -37.838242  144.880556   \n",
       "6                                      EAST_MELBOURNE -37.818517  144.982207   \n",
       "\n",
       "    No Restaurants  Incidents Recorded  \n",
       "19               0               10275  \n",
       "17               0               16537  \n",
       "3                1                3682  \n",
       "14               3                9665  \n",
       "4                3                9498  \n",
       "9                4                7453  \n",
       "2                5                7096  \n",
       "10               6                9118  \n",
       "6               14                7572  "
      ]
     },
     "execution_count": 242,
     "metadata": {},
     "output_type": "execute_result"
    }
   ],
   "source": [
    "Best_suburb=Melb_venues_crimes[Melb_venues_crimes['Cluster Labels']==4]\n",
    "Best_suburb"
   ]
  },
  {
   "cell_type": "markdown",
   "metadata": {},
   "source": [
    "----\n",
    "Now let's plot these best suburbs on a map to indicate their location. This helps our client to better decide on the location of his restaurant."
   ]
  },
  {
   "cell_type": "code",
   "execution_count": 295,
   "metadata": {},
   "outputs": [
    {
     "data": {
      "text/html": [
       "<div style=\"width:100%;\"><div style=\"position:relative;width:100%;height:0;padding-bottom:60%;\"><span style=\"color:#565656\">Make this Notebook Trusted to load map: File -> Trust Notebook</span><iframe src=\"about:blank\" style=\"position:absolute;width:100%;height:100%;left:0;top:0;border:none !important;\" data-html=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 onload=\"this.contentDocument.open();this.contentDocument.write(atob(this.getAttribute('data-html')));this.contentDocument.close();\" allowfullscreen webkitallowfullscreen mozallowfullscreen></iframe></div></div>"
      ],
      "text/plain": [
       "<folium.folium.Map at 0x1af10848>"
      ]
     },
     "execution_count": 295,
     "metadata": {},
     "output_type": "execute_result"
    }
   ],
   "source": [
    "Best_suburb=Best_suburb[Best_suburb['Postcode'].isin([3022,3004,3018])]\n",
    "map_clusters = folium.Map(location=[latitude, longitude], zoom_start=11)\n",
    "\n",
    "# add markers to the map\n",
    "from folium.features import DivIcon\n",
    "\n",
    "markers_colors = []\n",
    "for lat, lon, poi,  in zip(Best_suburb['Latitude'], Best_suburb['Longitude'], Best_suburb['Postcode']):\n",
    "    label = folium.Popup('Postcode:'+str(poi), parse_html=True )\n",
    "    folium.CircleMarker(\n",
    "        [lat, lon],\n",
    "        radius=max(4,noRes/5),\n",
    "        popup=label,\n",
    "        color='black',\n",
    "        fill=True,\n",
    "        fill_color='yellow',\n",
    "        weight= 2,\n",
    "        fill_opacity=0.7).add_to(map_clusters)\n",
    "    folium.map.Marker(\n",
    "    [lat, lon],\n",
    "    icon=DivIcon(\n",
    "        icon_size=(0,0),\n",
    "        icon_anchor=(-10,0),\n",
    "        html='<div  style=\"font-size:14pt; color:blue\" >%s</div>' % str(poi),\n",
    "        )\n",
    "    ).add_to(map_clusters)\n",
    "        \n",
    "       \n",
    "map_clusters"
   ]
  },
  {
   "cell_type": "markdown",
   "metadata": {},
   "source": [
    "### 5. Conclusion"
   ]
  },
  {
   "cell_type": "markdown",
   "metadata": {},
   "source": [
    "This project aimed to find the top 3 suburbs for opening a new restaurant considering the number of restaurants in the suburbs and their crime rate. We first obtained the data from various sources and clean them to prepare the final dataset required for this project. After analysing various suburbs, we cluster them based on their crime data and their number of restaurants into 5 different clusters. We found that one of the clusters has lower number of competitors and also have a relatively low number of crimes. Various suburbs belonged to this cluster, among which we selected the top 3 of them to the client. These suburbs include postcode `3022`, `3004` and `3018`. We summarised the crime data and number of restaurants for these suburbs that showed some pros and cons in their relative suitability for the new restaurant. Finally, we plotted these top 3 suburbs on Melbourne's geographical map. this provides information about the location of these suburbs and help the client to choose the best one."
   ]
  },
  {
   "cell_type": "markdown",
   "metadata": {},
   "source": [
    "## Thanks for reviewing. :)"
   ]
  }
 ],
 "metadata": {
  "kernelspec": {
   "display_name": "Python 3",
   "language": "python",
   "name": "python3"
  },
  "language_info": {
   "codemirror_mode": {
    "name": "ipython",
    "version": 3
   },
   "file_extension": ".py",
   "mimetype": "text/x-python",
   "name": "python",
   "nbconvert_exporter": "python",
   "pygments_lexer": "ipython3",
   "version": "3.7.6"
  }
 },
 "nbformat": 4,
 "nbformat_minor": 4
}
